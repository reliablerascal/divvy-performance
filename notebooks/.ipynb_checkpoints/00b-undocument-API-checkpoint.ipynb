{
 "cells": [
  {
   "cell_type": "code",
   "execution_count": 5,
   "id": "144e287c",
   "metadata": {},
   "outputs": [],
   "source": [
    "import requests\n",
    "\n",
    "cookies = {\n",
    "    'sessId': '3b5511fd-ddbb-4713-b417-181eca8cf3b1L1700077330',\n",
    "    '_ga_3340T2CN79': 'GS1.2.1700145206.1.0.1700145206.60.0.0',\n",
    "    '_gid': 'GA1.2.1873393566.1700430547',\n",
    "    'lyftAccessToken': 'B6kDcljYbLgpGKMEsCWtzGz+PQiILv7ofNCoZoph1GOMMsP5AJL9ePRnL3RGlef4btfbWaMovc9NLEyykBs6zb+61g8GyPkg76z7RTIfysGYnu0ayNkZ9bU=',\n",
    "    'stickyLyftBrowserId': 'mpazz-XjJJ0wiNQ0yZ1AALRb',\n",
    "    'bfe-fpval': '0',\n",
    "    '_ga': 'GA1.3.702882947.1700077332',\n",
    "    '_gid': 'GA1.3.1873393566.1700430547',\n",
    "    '_ga_08HCDBTRBP': 'GS1.2.1700439584.7.1.1700439874.60.0.0',\n",
    "    '_ga_6HC3Z0YHLF': 'GS1.1.1700439464.7.1.1700439877.0.0.0',\n",
    "    '_ga': 'GA1.2.702882947.1700077332',\n",
    "    '_ga_08HCDBTRBP': 'GS1.3.1700439584.7.1.1700439877.57.0.0',\n",
    "    'OptanonAlertBoxClosed': '2023-11-20T00:24:40.588Z',\n",
    "    'OptanonConsent': 'isIABGlobal=false&datestamp=Sun+Nov+19+2023+18%3A24%3A40+GMT-0600+(Central+Standard+Time)&version=6.4.0&landingPath=NotLandingPage&groups=1%3A1%2C2%3A0%2C3%3A0%2C4%3A0%2C0_286593%3A0%2C0_286594%3A0%2C0_286595%3A0%2C0_286596%3A0&AwaitingReconsent=false',\n",
    "}\n",
    "\n",
    "headers = {\n",
    "    'authority': 'account.divvybikes.com',\n",
    "    'accept': '*/*',\n",
    "    'accept-language': 'en-US,en;q=0.9',\n",
    "    'content-type': 'application/json',\n",
    "    # 'cookie': 'sessId=3b5511fd-ddbb-4713-b417-181eca8cf3b1L1700077330; _ga_3340T2CN79=GS1.2.1700145206.1.0.1700145206.60.0.0; _gid=GA1.2.1873393566.1700430547; lyftAccessToken=B6kDcljYbLgpGKMEsCWtzGz+PQiILv7ofNCoZoph1GOMMsP5AJL9ePRnL3RGlef4btfbWaMovc9NLEyykBs6zb+61g8GyPkg76z7RTIfysGYnu0ayNkZ9bU=; stickyLyftBrowserId=mpazz-XjJJ0wiNQ0yZ1AALRb; bfe-fpval=0; _ga=GA1.3.702882947.1700077332; _gid=GA1.3.1873393566.1700430547; _ga_08HCDBTRBP=GS1.2.1700439584.7.1.1700439874.60.0.0; _ga_6HC3Z0YHLF=GS1.1.1700439464.7.1.1700439877.0.0.0; _ga=GA1.2.702882947.1700077332; _ga_08HCDBTRBP=GS1.3.1700439584.7.1.1700439877.57.0.0; OptanonAlertBoxClosed=2023-11-20T00:24:40.588Z; OptanonConsent=isIABGlobal=false&datestamp=Sun+Nov+19+2023+18%3A24%3A40+GMT-0600+(Central+Standard+Time)&version=6.4.0&landingPath=NotLandingPage&groups=1%3A1%2C2%3A0%2C3%3A0%2C4%3A0%2C0_286593%3A0%2C0_286594%3A0%2C0_286595%3A0%2C0_286596%3A0&AwaitingReconsent=false',\n",
    "    'origin': 'https://account.divvybikes.com',\n",
    "    'referer': 'https://account.divvybikes.com/map',\n",
    "    'sec-ch-ua': '\"Google Chrome\";v=\"119\", \"Chromium\";v=\"119\", \"Not?A_Brand\";v=\"24\"',\n",
    "    'sec-ch-ua-mobile': '?1',\n",
    "    'sec-ch-ua-platform': '\"Android\"',\n",
    "    'sec-fetch-dest': 'empty',\n",
    "    'sec-fetch-mode': 'cors',\n",
    "    'sec-fetch-site': 'same-origin',\n",
    "    'user-agent': 'Mozilla/5.0 (Linux; Android 6.0; Nexus 5 Build/MRA58N) AppleWebKit/537.36 (KHTML, like Gecko) Chrome/119.0.0.0 Mobile Safari/537.36',\n",
    "}\n",
    "\n",
    "json_data = {\n",
    "    'operationName': 'GetPlaceSearch',\n",
    "    'variables': {\n",
    "        'placeSearchInput': {\n",
    "            'query': '1935 N. Sawyer',\n",
    "            'lat': 41.841348926152264,\n",
    "            'lng': -87.73484966824286,\n",
    "        },\n",
    "    },\n",
    "    'query': 'query GetPlaceSearch($placeSearchInput: PlaceSearchInput!) {\\n  placeSearch(placeSearchInput: $placeSearchInput) {\\n    placeName\\n    routableAddress\\n    lat\\n    lng\\n    __typename\\n  }\\n}',\n",
    "}\n",
    "\n",
    "response = requests.post('https://account.divvybikes.com/bikesharefe-gql', cookies=cookies, headers=headers, json=json_data)\n",
    "\n",
    "# Note: json_data will not be serialized by requests\n",
    "# exactly as it was in the original request.\n",
    "#data = '{\"operationName\":\"GetPlaceSearch\",\"variables\":{\"placeSearchInput\":{\"query\":\"1935 N. Sawyer\",\"lat\":41.841348926152264,\"lng\":-87.73484966824286}},\"query\":\"query GetPlaceSearch($placeSearchInput: PlaceSearchInput!) {\\\\n  placeSearch(placeSearchInput: $placeSearchInput) {\\\\n    placeName\\\\n    routableAddress\\\\n    lat\\\\n    lng\\\\n    __typename\\\\n  }\\\\n}\"}'\n",
    "#response = requests.post('https://account.divvybikes.com/bikesharefe-gql', cookies=cookies, headers=headers, data=data)"
   ]
  },
  {
   "cell_type": "code",
   "execution_count": 6,
   "id": "f0479b5e",
   "metadata": {},
   "outputs": [
    {
     "data": {
      "text/plain": [
       "<Response [200]>"
      ]
     },
     "execution_count": 6,
     "metadata": {},
     "output_type": "execute_result"
    }
   ],
   "source": [
    "response"
   ]
  },
  {
   "cell_type": "code",
   "execution_count": 7,
   "id": "feda7cc9",
   "metadata": {},
   "outputs": [
    {
     "data": {
      "text/plain": [
       "{'data': {'placeSearch': [{'placeName': '1935 N Sawyer Ave',\n",
       "    'routableAddress': '1935 N Sawyer Ave, Chicago, IL, United States',\n",
       "    'lat': 41.9166,\n",
       "    'lng': -87.70864,\n",
       "    '__typename': 'PlaceAutoCompleteResult'},\n",
       "   {'placeName': '1935 N Sawyer Ave',\n",
       "    'routableAddress': '1935 N Sawyer Ave, Chicago, IL 60647, United States',\n",
       "    'lat': 41.91662,\n",
       "    'lng': -87.70864,\n",
       "    '__typename': 'PlaceAutoCompleteResult'},\n",
       "   {'placeName': '1935 S Sawyer Ave',\n",
       "    'routableAddress': '1935 S Sawyer Ave, Chicago, IL, United States',\n",
       "    'lat': 41.85432,\n",
       "    'lng': -87.70655,\n",
       "    '__typename': 'PlaceAutoCompleteResult'},\n",
       "   {'placeName': 'N Sawyer Ave',\n",
       "    'routableAddress': 'N Sawyer Ave, Chicago, IL, United States',\n",
       "    'lat': 41.898357,\n",
       "    'lng': -87.70697,\n",
       "    '__typename': 'PlaceAutoCompleteResult'},\n",
       "   {'placeName': 'N Sawyer Ave',\n",
       "    'routableAddress': 'N Sawyer Ave, Chicago, IL, United States',\n",
       "    'lat': 41.89228,\n",
       "    'lng': -87.70764,\n",
       "    '__typename': 'PlaceAutoCompleteResult'},\n",
       "   {'placeName': '1935 N Sawyer Rd',\n",
       "    'routableAddress': '1935 N Sawyer Rd, Oconomowoc, WI, United States',\n",
       "    'lat': 43.05786,\n",
       "    'lng': -88.44234,\n",
       "    '__typename': 'PlaceAutoCompleteResult'},\n",
       "   {'placeName': 'N Sawyer Ave',\n",
       "    'routableAddress': 'N Sawyer Ave, Chicago, IL, United States',\n",
       "    'lat': 41.92469,\n",
       "    'lng': -87.70912,\n",
       "    '__typename': 'PlaceAutoCompleteResult'},\n",
       "   {'placeName': 'N Sawyer Ave',\n",
       "    'routableAddress': 'N Sawyer Ave, Chicago, IL, United States',\n",
       "    'lat': 41.96469,\n",
       "    'lng': -87.70957,\n",
       "    '__typename': 'PlaceAutoCompleteResult'},\n",
       "   {'placeName': 'N Sawyer Ave',\n",
       "    'routableAddress': 'N Sawyer Ave, Chicago, IL, United States',\n",
       "    'lat': 41.91193,\n",
       "    'lng': -87.70848,\n",
       "    '__typename': 'PlaceAutoCompleteResult'}]}}"
      ]
     },
     "execution_count": 7,
     "metadata": {},
     "output_type": "execute_result"
    }
   ],
   "source": [
    "data = response.json()\n",
    "data"
   ]
  },
  {
   "cell_type": "code",
   "execution_count": null,
   "id": "4f879f6c",
   "metadata": {},
   "outputs": [],
   "source": []
  }
 ],
 "metadata": {
  "kernelspec": {
   "display_name": "Python 3 (ipykernel)",
   "language": "python",
   "name": "python3"
  },
  "language_info": {
   "codemirror_mode": {
    "name": "ipython",
    "version": 3
   },
   "file_extension": ".py",
   "mimetype": "text/x-python",
   "name": "python",
   "nbconvert_exporter": "python",
   "pygments_lexer": "ipython3",
   "version": "3.10.12"
  }
 },
 "nbformat": 4,
 "nbformat_minor": 5
}
