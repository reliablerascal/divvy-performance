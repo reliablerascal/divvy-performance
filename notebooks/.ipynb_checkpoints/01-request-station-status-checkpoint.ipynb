{
 "cells": [
  {
   "cell_type": "markdown",
   "id": "575580d5",
   "metadata": {},
   "source": [
    "# About This Notebook\n",
    "This notebook develops a procedure to request all Divvy station data via API and then save that data"
   ]
  },
  {
   "cell_type": "markdown",
   "id": "507e8353",
   "metadata": {},
   "source": [
    "<h3>Documentation</h3>\n",
    "Live Station Data from Divvy Site\n",
    "https://gbfs.divvybikes.com/gbfs/2.3/gbfs.json"
   ]
  },
  {
   "cell_type": "markdown",
   "id": "91384245",
   "metadata": {},
   "source": [
    "# Import libraries"
   ]
  },
  {
   "cell_type": "code",
   "execution_count": 2,
   "id": "73356b8e",
   "metadata": {},
   "outputs": [],
   "source": [
    "import pandas as pd\n",
    "import requests\n",
    "import datetime\n",
    "import pytz"
   ]
  },
  {
   "cell_type": "code",
   "execution_count": 3,
   "id": "35f5f153",
   "metadata": {},
   "outputs": [
    {
     "data": {
      "text/plain": [
       "<Response [200]>"
      ]
     },
     "execution_count": 3,
     "metadata": {},
     "output_type": "execute_result"
    }
   ],
   "source": [
    "url = f\"https://gbfs.lyft.com/gbfs/2.3/chi/en/station_status.json?\"\n",
    "response = requests.get(url)\n",
    "data = response.json()\n",
    "response"
   ]
  },
  {
   "cell_type": "code",
   "execution_count": 10,
   "id": "71f003f4",
   "metadata": {},
   "outputs": [
    {
     "data": {
      "text/plain": [
       "'2023_11_16_1125AM'"
      ]
     },
     "execution_count": 10,
     "metadata": {},
     "output_type": "execute_result"
    }
   ],
   "source": [
    "# get timestamp\n",
    "central_tz = pytz.timezone('America/Chicago')\n",
    "status_timestamp = datetime.datetime.utcfromtimestamp(data['last_updated']).replace(tzinfo=pytz.utc)\n",
    "status_timestamp = status_timestamp.astimezone(central_tz).strftime('%Y_%m_%d_%I%M%p')\n",
    "status_timestamp"
   ]
  },
  {
   "cell_type": "markdown",
   "id": "f07d0d28",
   "metadata": {},
   "source": [
    "# Create and Export CSV"
   ]
  },
  {
   "cell_type": "code",
   "execution_count": 9,
   "id": "41100b47",
   "metadata": {},
   "outputs": [],
   "source": [
    "df_station_status= pd.DataFrame(data['data']['stations'])\n",
    "filename = f\"../data/station_status_{status_timestamp}.csv\"\n",
    "df_station_status.to_csv(filename, index=False)"
   ]
  },
  {
   "cell_type": "code",
   "execution_count": null,
   "id": "dfda542b",
   "metadata": {},
   "outputs": [],
   "source": []
  }
 ],
 "metadata": {
  "kernelspec": {
   "display_name": "Python 3 (ipykernel)",
   "language": "python",
   "name": "python3"
  },
  "language_info": {
   "codemirror_mode": {
    "name": "ipython",
    "version": 3
   },
   "file_extension": ".py",
   "mimetype": "text/x-python",
   "name": "python",
   "nbconvert_exporter": "python",
   "pygments_lexer": "ipython3",
   "version": "3.10.12"
  }
 },
 "nbformat": 4,
 "nbformat_minor": 5
}
