{
 "cells": [
  {
   "cell_type": "markdown",
   "id": "3284fc0e",
   "metadata": {},
   "source": [
    "<h3>Next Steps</h3>\n",
    "<ul>\n",
    "    <li>figure out why num_ebikes_available does not always match vehicle_type_id = 2 (sometimes greater, sometimes less)\n",
    "        <li>why are there 1664 stations (should be less)\n",
    "            <li>what do is_renting and is_returning mean?\n",
    "</ul>"
   ]
  },
  {
   "cell_type": "markdown",
   "id": "507e8353",
   "metadata": {},
   "source": [
    "<h3>Documentation</h3>\n",
    "Live Station Data from Divvy Site\n",
    "https://gbfs.divvybikes.com/gbfs/2.3/gbfs.json"
   ]
  },
  {
   "cell_type": "markdown",
   "id": "878468e4",
   "metadata": {},
   "source": [
    "### methods\n",
    "I'm removing public racks and only looking at classic bikes"
   ]
  },
  {
   "cell_type": "markdown",
   "id": "ecabad01",
   "metadata": {},
   "source": [
    "### Findings\n",
    "837 have \"public rack\" in name, 828 don't"
   ]
  },
  {
   "cell_type": "markdown",
   "id": "91384245",
   "metadata": {},
   "source": [
    "# import libraries"
   ]
  },
  {
   "cell_type": "code",
   "execution_count": 29,
   "id": "73356b8e",
   "metadata": {},
   "outputs": [],
   "source": [
    "import pandas as pd\n",
    "import requests\n",
    "import datetime\n",
    "import pytz"
   ]
  },
  {
   "cell_type": "markdown",
   "id": "2c1fad74",
   "metadata": {},
   "source": [
    "# review vehicle types"
   ]
  },
  {
   "cell_type": "code",
   "execution_count": 19,
   "id": "30447b3d",
   "metadata": {},
   "outputs": [
    {
     "data": {
      "text/plain": [
       "<Response [200]>"
      ]
     },
     "execution_count": 19,
     "metadata": {},
     "output_type": "execute_result"
    }
   ],
   "source": [
    "url = f\"https://gbfs.lyft.com/gbfs/2.3/chi/en/vehicle_types.json?\"\n",
    "\n",
    "#run the query\n",
    "response = requests.get(url)\n",
    "data = response.json()\n",
    "response"
   ]
  },
  {
   "cell_type": "code",
   "execution_count": 3,
   "id": "d4e9fa53",
   "metadata": {},
   "outputs": [
    {
     "data": {
      "text/plain": [
       "dict_keys(['vehicle_types'])"
      ]
     },
     "execution_count": 3,
     "metadata": {},
     "output_type": "execute_result"
    }
   ],
   "source": [
    "#navigate through dictionaries to find station data\n",
    "#data.keys()\n",
    "data['data'].keys()"
   ]
  },
  {
   "cell_type": "code",
   "execution_count": 36,
   "id": "aebc392e",
   "metadata": {},
   "outputs": [
    {
     "data": {
      "text/plain": [
       "'_2023_11_16_0914AM'"
      ]
     },
     "execution_count": 36,
     "metadata": {},
     "output_type": "execute_result"
    }
   ],
   "source": [
    "central_tz = pytz.timezone('America/Chicago')\n",
    "status_timestamp = datetime.datetime.utcfromtimestamp(data['last_updated']).replace(tzinfo=pytz.utc)\n",
    "status_timestamp = status_timestamp.astimezone(central_tz).strftime('_%Y_%m_%d_%I%M%p')\n",
    "status_timestamp"
   ]
  },
  {
   "cell_type": "code",
   "execution_count": 4,
   "id": "0ebe1863",
   "metadata": {
    "scrolled": true
   },
   "outputs": [
    {
     "data": {
      "text/plain": [
       "[{'vehicle_type_id': '1',\n",
       "  'form_factor': 'bicycle',\n",
       "  'propulsion_type': 'human'},\n",
       " {'max_range_meters': 54717.56,\n",
       "  'vehicle_type_id': '2',\n",
       "  'form_factor': 'bicycle',\n",
       "  'propulsion_type': 'electric_assist'},\n",
       " {'max_range_meters': 70810.95999999999,\n",
       "  'vehicle_type_id': '3',\n",
       "  'form_factor': 'scooter',\n",
       "  'propulsion_type': 'electric'}]"
      ]
     },
     "execution_count": 4,
     "metadata": {},
     "output_type": "execute_result"
    }
   ],
   "source": [
    "#look at all data\n",
    "data['data']['vehicle_types']"
   ]
  },
  {
   "cell_type": "markdown",
   "id": "3fc958c4",
   "metadata": {},
   "source": [
    "# import station info"
   ]
  },
  {
   "cell_type": "code",
   "execution_count": 5,
   "id": "78de6584",
   "metadata": {},
   "outputs": [
    {
     "data": {
      "text/plain": [
       "<Response [200]>"
      ]
     },
     "execution_count": 5,
     "metadata": {},
     "output_type": "execute_result"
    }
   ],
   "source": [
    "url = f\"https://gbfs.lyft.com/gbfs/2.3/chi/en/station_information.json?\"\n",
    "\n",
    "#request data\n",
    "response = requests.get(url)\n",
    "data = response.json()\n",
    "response"
   ]
  },
  {
   "cell_type": "code",
   "execution_count": 6,
   "id": "0e922218",
   "metadata": {},
   "outputs": [
    {
     "data": {
      "text/plain": [
       "dict_keys(['stations'])"
      ]
     },
     "execution_count": 6,
     "metadata": {},
     "output_type": "execute_result"
    }
   ],
   "source": [
    "#navigate through dictionaries to find station data\n",
    "#data.keys()\n",
    "data['data'].keys()"
   ]
  },
  {
   "cell_type": "code",
   "execution_count": 7,
   "id": "feff0655",
   "metadata": {
    "scrolled": false
   },
   "outputs": [
    {
     "data": {
      "text/plain": [
       "{'lon': -87.6537080423,\n",
       " 'name': 'Sheffield Ave & Fullerton Ave',\n",
       " 'station_id': 'a3a4ac3f-a135-11e9-9cda-0a87ae2ba916',\n",
       " 'lat': 41.9256018819,\n",
       " 'rental_uris': {'android': 'https://chi.lft.to/lastmile_qr_scan',\n",
       "  'ios': 'https://chi.lft.to/lastmile_qr_scan'},\n",
       " 'short_name': 'TA1306000016',\n",
       " 'capacity': 27}"
      ]
     },
     "execution_count": 7,
     "metadata": {},
     "output_type": "execute_result"
    }
   ],
   "source": [
    "#look at the first station\n",
    "data['data']['stations'][0]"
   ]
  },
  {
   "cell_type": "code",
   "execution_count": 8,
   "id": "3653acc2",
   "metadata": {},
   "outputs": [
    {
     "data": {
      "text/html": [
       "<div>\n",
       "<style scoped>\n",
       "    .dataframe tbody tr th:only-of-type {\n",
       "        vertical-align: middle;\n",
       "    }\n",
       "\n",
       "    .dataframe tbody tr th {\n",
       "        vertical-align: top;\n",
       "    }\n",
       "\n",
       "    .dataframe thead th {\n",
       "        text-align: right;\n",
       "    }\n",
       "</style>\n",
       "<table border=\"1\" class=\"dataframe\">\n",
       "  <thead>\n",
       "    <tr style=\"text-align: right;\">\n",
       "      <th></th>\n",
       "      <th>station_id</th>\n",
       "      <th>name</th>\n",
       "      <th>lat</th>\n",
       "      <th>lon</th>\n",
       "      <th>capacity</th>\n",
       "      <th>short_name</th>\n",
       "    </tr>\n",
       "  </thead>\n",
       "  <tbody>\n",
       "    <tr>\n",
       "      <th>0</th>\n",
       "      <td>a3a4ac3f-a135-11e9-9cda-0a87ae2ba916</td>\n",
       "      <td>Sheffield Ave &amp; Fullerton Ave</td>\n",
       "      <td>41.925602</td>\n",
       "      <td>-87.653708</td>\n",
       "      <td>27</td>\n",
       "      <td>TA1306000016</td>\n",
       "    </tr>\n",
       "    <tr>\n",
       "      <th>1</th>\n",
       "      <td>a3a795d7-a135-11e9-9cda-0a87ae2ba916</td>\n",
       "      <td>Michigan Ave &amp; Madison St</td>\n",
       "      <td>41.882134</td>\n",
       "      <td>-87.625125</td>\n",
       "      <td>19</td>\n",
       "      <td>13036</td>\n",
       "    </tr>\n",
       "    <tr>\n",
       "      <th>2</th>\n",
       "      <td>a3b222fc-a135-11e9-9cda-0a87ae2ba916</td>\n",
       "      <td>Racine Ave &amp; Garfield Blvd</td>\n",
       "      <td>41.794228</td>\n",
       "      <td>-87.655073</td>\n",
       "      <td>11</td>\n",
       "      <td>559</td>\n",
       "    </tr>\n",
       "    <tr>\n",
       "      <th>3</th>\n",
       "      <td>a3b11480-a135-11e9-9cda-0a87ae2ba916</td>\n",
       "      <td>Laramie Ave &amp; Kinzie St</td>\n",
       "      <td>41.887832</td>\n",
       "      <td>-87.755527</td>\n",
       "      <td>11</td>\n",
       "      <td>530</td>\n",
       "    </tr>\n",
       "    <tr>\n",
       "      <th>4</th>\n",
       "      <td>a3a6c38e-a135-11e9-9cda-0a87ae2ba916</td>\n",
       "      <td>Southport Ave &amp; Wellington Ave</td>\n",
       "      <td>41.935775</td>\n",
       "      <td>-87.663600</td>\n",
       "      <td>19</td>\n",
       "      <td>TA1307000006</td>\n",
       "    </tr>\n",
       "  </tbody>\n",
       "</table>\n",
       "</div>"
      ],
      "text/plain": [
       "                             station_id                            name  \\\n",
       "0  a3a4ac3f-a135-11e9-9cda-0a87ae2ba916   Sheffield Ave & Fullerton Ave   \n",
       "1  a3a795d7-a135-11e9-9cda-0a87ae2ba916       Michigan Ave & Madison St   \n",
       "2  a3b222fc-a135-11e9-9cda-0a87ae2ba916      Racine Ave & Garfield Blvd   \n",
       "3  a3b11480-a135-11e9-9cda-0a87ae2ba916         Laramie Ave & Kinzie St   \n",
       "4  a3a6c38e-a135-11e9-9cda-0a87ae2ba916  Southport Ave & Wellington Ave   \n",
       "\n",
       "         lat        lon  capacity    short_name  \n",
       "0  41.925602 -87.653708        27  TA1306000016  \n",
       "1  41.882134 -87.625125        19         13036  \n",
       "2  41.794228 -87.655073        11           559  \n",
       "3  41.887832 -87.755527        11           530  \n",
       "4  41.935775 -87.663600        19  TA1307000006  "
      ]
     },
     "execution_count": 8,
     "metadata": {},
     "output_type": "execute_result"
    }
   ],
   "source": [
    "df_station_info = pd.DataFrame(data['data']['stations'], columns=['station_id','name','lat','lon','capacity','short_name'])\n",
    "df_station_info.head()"
   ]
  },
  {
   "cell_type": "markdown",
   "id": "209d84bd",
   "metadata": {},
   "source": [
    "# Import station status"
   ]
  },
  {
   "cell_type": "code",
   "execution_count": 9,
   "id": "0de549fd",
   "metadata": {},
   "outputs": [
    {
     "data": {
      "text/plain": [
       "'https://gbfs.lyft.com/gbfs/2.3/chi/en/station_status.json?'"
      ]
     },
     "execution_count": 9,
     "metadata": {},
     "output_type": "execute_result"
    }
   ],
   "source": [
    "# select = \"date_extract_y(date) as Year,date_extract_m(date) as Month,count(distinct date) as nDays,sum(rides) as nRides\"\n",
    "# where = \"year between 2019 and 2022\"\n",
    "# group_by = \"Year, Month\"\n",
    "# limit = 9999\n",
    "\n",
    "# url = f\"https://data.cityofchicago.org/resource/5neh-572f.json?$SELECT={select}&$WHERE={where}&$GROUP={group_by}&$LIMIT={limit}\"\n",
    "url = f\"https://gbfs.lyft.com/gbfs/2.3/chi/en/station_status.json?\"\n",
    "url"
   ]
  },
  {
   "cell_type": "code",
   "execution_count": 10,
   "id": "35f5f153",
   "metadata": {},
   "outputs": [
    {
     "data": {
      "text/plain": [
       "<Response [200]>"
      ]
     },
     "execution_count": 10,
     "metadata": {},
     "output_type": "execute_result"
    }
   ],
   "source": [
    "#run the query\n",
    "response = requests.get(url)\n",
    "data = response.json()\n",
    "response"
   ]
  },
  {
   "cell_type": "code",
   "execution_count": 11,
   "id": "ee2e96cb",
   "metadata": {},
   "outputs": [
    {
     "data": {
      "text/plain": [
       "dict_keys(['stations'])"
      ]
     },
     "execution_count": 11,
     "metadata": {},
     "output_type": "execute_result"
    }
   ],
   "source": [
    "#navigate through dictionaries to find station data\n",
    "# data.keys()\n",
    "data['data'].keys()"
   ]
  },
  {
   "cell_type": "code",
   "execution_count": 12,
   "id": "43fc384a",
   "metadata": {},
   "outputs": [
    {
     "data": {
      "text/plain": [
       "{'num_bikes_available': 9,\n",
       " 'num_scooters_unavailable': 0,\n",
       " 'vehicle_types_available': [{'vehicle_type_id': '1', 'count': 6},\n",
       "  {'vehicle_type_id': '2', 'count': 3}],\n",
       " 'station_id': '1799277526470631980',\n",
       " 'is_renting': 1,\n",
       " 'num_bikes_disabled': 0,\n",
       " 'num_ebikes_available': 3,\n",
       " 'is_returning': 1,\n",
       " 'num_docks_disabled': 0,\n",
       " 'vehicle_docks_available': [{'count': 6, 'vehicle_type_ids': ['1', '2']}],\n",
       " 'num_scooters_available': 0,\n",
       " 'num_docks_available': 6,\n",
       " 'is_installed': 1,\n",
       " 'last_reported': 1700147513}"
      ]
     },
     "execution_count": 12,
     "metadata": {},
     "output_type": "execute_result"
    }
   ],
   "source": [
    "#look at the first station\n",
    "data_station_status = data['data']['stations']\n",
    "data_station_status[0]"
   ]
  },
  {
   "cell_type": "code",
   "execution_count": 13,
   "id": "ce8bb447",
   "metadata": {},
   "outputs": [],
   "source": [
    "#read into dataframe and rename columns\n",
    "df_station_status= pd.DataFrame(data_station_status, columns=\n",
    "        ['station_id','num_bikes_available','vehicle_types_available','num_bikes_disabled','num_docks_available','num_ebikes_available'])\n",
    "# df_stations.rename(columns={\n",
    "#     'num_bikes_available':'n_good_bikes',\n",
    "#     'num_bikes_disabled':'n_broken_bikes',\n",
    "#     'num_docks_available':'n_docks_open'\n",
    "# }, inplace=True)"
   ]
  },
  {
   "cell_type": "code",
   "execution_count": 15,
   "id": "0e8ca9cc",
   "metadata": {},
   "outputs": [
    {
     "data": {
      "text/html": [
       "<div>\n",
       "<style scoped>\n",
       "    .dataframe tbody tr th:only-of-type {\n",
       "        vertical-align: middle;\n",
       "    }\n",
       "\n",
       "    .dataframe tbody tr th {\n",
       "        vertical-align: top;\n",
       "    }\n",
       "\n",
       "    .dataframe thead th {\n",
       "        text-align: right;\n",
       "    }\n",
       "</style>\n",
       "<table border=\"1\" class=\"dataframe\">\n",
       "  <thead>\n",
       "    <tr style=\"text-align: right;\">\n",
       "      <th></th>\n",
       "      <th>station_id</th>\n",
       "      <th>num_bikes_available</th>\n",
       "      <th>num_bikes_disabled</th>\n",
       "      <th>num_docks_available</th>\n",
       "      <th>num_ebikes_available</th>\n",
       "      <th>n_classic</th>\n",
       "      <th>n_electric</th>\n",
       "      <th>n_all_bikes</th>\n",
       "      <th>is_no_classic</th>\n",
       "      <th>is_no_docks</th>\n",
       "      <th>is_problem_station</th>\n",
       "      <th>station_id_len</th>\n",
       "    </tr>\n",
       "  </thead>\n",
       "  <tbody>\n",
       "    <tr>\n",
       "      <th>0</th>\n",
       "      <td>1799277526470631980</td>\n",
       "      <td>9</td>\n",
       "      <td>0</td>\n",
       "      <td>6</td>\n",
       "      <td>3</td>\n",
       "      <td>6</td>\n",
       "      <td>3</td>\n",
       "      <td>9</td>\n",
       "      <td>False</td>\n",
       "      <td>False</td>\n",
       "      <td>False</td>\n",
       "      <td>19</td>\n",
       "    </tr>\n",
       "    <tr>\n",
       "      <th>1</th>\n",
       "      <td>a3a5d3bb-a135-11e9-9cda-0a87ae2ba916</td>\n",
       "      <td>5</td>\n",
       "      <td>2</td>\n",
       "      <td>7</td>\n",
       "      <td>3</td>\n",
       "      <td>2</td>\n",
       "      <td>3</td>\n",
       "      <td>7</td>\n",
       "      <td>False</td>\n",
       "      <td>False</td>\n",
       "      <td>False</td>\n",
       "      <td>36</td>\n",
       "    </tr>\n",
       "    <tr>\n",
       "      <th>2</th>\n",
       "      <td>a3aa4017-a135-11e9-9cda-0a87ae2ba916</td>\n",
       "      <td>3</td>\n",
       "      <td>3</td>\n",
       "      <td>9</td>\n",
       "      <td>3</td>\n",
       "      <td>0</td>\n",
       "      <td>3</td>\n",
       "      <td>6</td>\n",
       "      <td>True</td>\n",
       "      <td>False</td>\n",
       "      <td>True</td>\n",
       "      <td>36</td>\n",
       "    </tr>\n",
       "    <tr>\n",
       "      <th>3</th>\n",
       "      <td>a3af2737-a135-11e9-9cda-0a87ae2ba916</td>\n",
       "      <td>13</td>\n",
       "      <td>0</td>\n",
       "      <td>2</td>\n",
       "      <td>1</td>\n",
       "      <td>12</td>\n",
       "      <td>1</td>\n",
       "      <td>13</td>\n",
       "      <td>False</td>\n",
       "      <td>False</td>\n",
       "      <td>False</td>\n",
       "      <td>36</td>\n",
       "    </tr>\n",
       "    <tr>\n",
       "      <th>4</th>\n",
       "      <td>ff21c158-de98-46c6-9ef7-7082bdb7c634</td>\n",
       "      <td>12</td>\n",
       "      <td>1</td>\n",
       "      <td>2</td>\n",
       "      <td>10</td>\n",
       "      <td>2</td>\n",
       "      <td>10</td>\n",
       "      <td>13</td>\n",
       "      <td>False</td>\n",
       "      <td>False</td>\n",
       "      <td>False</td>\n",
       "      <td>36</td>\n",
       "    </tr>\n",
       "  </tbody>\n",
       "</table>\n",
       "</div>"
      ],
      "text/plain": [
       "                             station_id  num_bikes_available  \\\n",
       "0                   1799277526470631980                    9   \n",
       "1  a3a5d3bb-a135-11e9-9cda-0a87ae2ba916                    5   \n",
       "2  a3aa4017-a135-11e9-9cda-0a87ae2ba916                    3   \n",
       "3  a3af2737-a135-11e9-9cda-0a87ae2ba916                   13   \n",
       "4  ff21c158-de98-46c6-9ef7-7082bdb7c634                   12   \n",
       "\n",
       "   num_bikes_disabled  num_docks_available  num_ebikes_available  n_classic  \\\n",
       "0                   0                    6                     3          6   \n",
       "1                   2                    7                     3          2   \n",
       "2                   3                    9                     3          0   \n",
       "3                   0                    2                     1         12   \n",
       "4                   1                    2                    10          2   \n",
       "\n",
       "   n_electric  n_all_bikes  is_no_classic  is_no_docks  is_problem_station  \\\n",
       "0           3            9          False        False               False   \n",
       "1           3            7          False        False               False   \n",
       "2           3            6           True        False                True   \n",
       "3           1           13          False        False               False   \n",
       "4          10           13          False        False               False   \n",
       "\n",
       "   station_id_len  \n",
       "0              19  \n",
       "1              36  \n",
       "2              36  \n",
       "3              36  \n",
       "4              36  "
      ]
     },
     "execution_count": 15,
     "metadata": {},
     "output_type": "execute_result"
    }
   ],
   "source": [
    "#add calculated columns\n",
    "df_station_status['n_classic'] = df_station_status['vehicle_types_available'].apply(\n",
    "    lambda x: next((item['count'] for item in x if item['vehicle_type_id'] == '1'), 0))\n",
    "df_station_status['n_electric'] = df_station_status['vehicle_types_available'].apply(\n",
    "    lambda x: next((item['count'] for item in x if item['vehicle_type_id'] == '2'), 0))\n",
    "# df_stations['nScooters'] = df_stations['vehicle_types_available'].apply(\n",
    "#     lambda x: next((item['count'] for item in x if item['vehicle_type_id'] == '3'), 0))\n",
    "df_station_status['n_all_bikes']=df_station_status['num_bikes_available']+df_station_status['num_bikes_disabled']\n",
    "df_station_status.drop('vehicle_types_available',axis=1, inplace=True)\n",
    "df_station_status['is_no_classic']=(df_station_status['n_classic']==0)\n",
    "df_station_status['is_no_docks']=(df_station_status['num_docks_available']==0)\n",
    "df_station_status['is_problem_station']= df_station_status['is_no_classic'] | df_station_status['is_no_docks']\n",
    "df_station_status['station_id_len']=df_station_status['station_id'].str.len()\n",
    "\n",
    "df_station_status.head()"
   ]
  },
  {
   "cell_type": "markdown",
   "id": "9ed52e33",
   "metadata": {},
   "source": [
    "# Merge Station Info"
   ]
  },
  {
   "cell_type": "code",
   "execution_count": 16,
   "id": "6c11bf8e",
   "metadata": {},
   "outputs": [
    {
     "data": {
      "text/html": [
       "<div>\n",
       "<style scoped>\n",
       "    .dataframe tbody tr th:only-of-type {\n",
       "        vertical-align: middle;\n",
       "    }\n",
       "\n",
       "    .dataframe tbody tr th {\n",
       "        vertical-align: top;\n",
       "    }\n",
       "\n",
       "    .dataframe thead th {\n",
       "        text-align: right;\n",
       "    }\n",
       "</style>\n",
       "<table border=\"1\" class=\"dataframe\">\n",
       "  <thead>\n",
       "    <tr style=\"text-align: right;\">\n",
       "      <th></th>\n",
       "      <th>station_id</th>\n",
       "      <th>num_bikes_available</th>\n",
       "      <th>num_bikes_disabled</th>\n",
       "      <th>num_docks_available</th>\n",
       "      <th>num_ebikes_available</th>\n",
       "      <th>n_classic</th>\n",
       "      <th>n_electric</th>\n",
       "      <th>n_all_bikes</th>\n",
       "      <th>is_no_classic</th>\n",
       "      <th>is_no_docks</th>\n",
       "      <th>is_problem_station</th>\n",
       "      <th>station_id_len</th>\n",
       "      <th>name</th>\n",
       "      <th>lat</th>\n",
       "      <th>lon</th>\n",
       "      <th>capacity</th>\n",
       "      <th>short_name</th>\n",
       "    </tr>\n",
       "  </thead>\n",
       "  <tbody>\n",
       "    <tr>\n",
       "      <th>0</th>\n",
       "      <td>1799277526470631980</td>\n",
       "      <td>9</td>\n",
       "      <td>0</td>\n",
       "      <td>6</td>\n",
       "      <td>3</td>\n",
       "      <td>6</td>\n",
       "      <td>3</td>\n",
       "      <td>9</td>\n",
       "      <td>False</td>\n",
       "      <td>False</td>\n",
       "      <td>False</td>\n",
       "      <td>19</td>\n",
       "      <td>Lincoln Ave &amp; Byron St</td>\n",
       "      <td>41.952372</td>\n",
       "      <td>-87.677296</td>\n",
       "      <td>15</td>\n",
       "      <td>23002</td>\n",
       "    </tr>\n",
       "    <tr>\n",
       "      <th>1</th>\n",
       "      <td>a3a5d3bb-a135-11e9-9cda-0a87ae2ba916</td>\n",
       "      <td>5</td>\n",
       "      <td>2</td>\n",
       "      <td>7</td>\n",
       "      <td>3</td>\n",
       "      <td>2</td>\n",
       "      <td>3</td>\n",
       "      <td>7</td>\n",
       "      <td>False</td>\n",
       "      <td>False</td>\n",
       "      <td>False</td>\n",
       "      <td>36</td>\n",
       "      <td>Blue Island Ave &amp; 18th St</td>\n",
       "      <td>41.857556</td>\n",
       "      <td>-87.661535</td>\n",
       "      <td>15</td>\n",
       "      <td>13135</td>\n",
       "    </tr>\n",
       "    <tr>\n",
       "      <th>2</th>\n",
       "      <td>a3aa4017-a135-11e9-9cda-0a87ae2ba916</td>\n",
       "      <td>3</td>\n",
       "      <td>3</td>\n",
       "      <td>9</td>\n",
       "      <td>3</td>\n",
       "      <td>0</td>\n",
       "      <td>3</td>\n",
       "      <td>6</td>\n",
       "      <td>True</td>\n",
       "      <td>False</td>\n",
       "      <td>True</td>\n",
       "      <td>36</td>\n",
       "      <td>Broadway &amp; Waveland Ave</td>\n",
       "      <td>41.949074</td>\n",
       "      <td>-87.648636</td>\n",
       "      <td>15</td>\n",
       "      <td>13325</td>\n",
       "    </tr>\n",
       "    <tr>\n",
       "      <th>3</th>\n",
       "      <td>a3af2737-a135-11e9-9cda-0a87ae2ba916</td>\n",
       "      <td>13</td>\n",
       "      <td>0</td>\n",
       "      <td>2</td>\n",
       "      <td>1</td>\n",
       "      <td>12</td>\n",
       "      <td>1</td>\n",
       "      <td>13</td>\n",
       "      <td>False</td>\n",
       "      <td>False</td>\n",
       "      <td>False</td>\n",
       "      <td>36</td>\n",
       "      <td>Clark St &amp; Elmdale Ave</td>\n",
       "      <td>41.990860</td>\n",
       "      <td>-87.669724</td>\n",
       "      <td>15</td>\n",
       "      <td>KA1504000148</td>\n",
       "    </tr>\n",
       "    <tr>\n",
       "      <th>4</th>\n",
       "      <td>ff21c158-de98-46c6-9ef7-7082bdb7c634</td>\n",
       "      <td>12</td>\n",
       "      <td>1</td>\n",
       "      <td>2</td>\n",
       "      <td>10</td>\n",
       "      <td>2</td>\n",
       "      <td>10</td>\n",
       "      <td>13</td>\n",
       "      <td>False</td>\n",
       "      <td>False</td>\n",
       "      <td>False</td>\n",
       "      <td>36</td>\n",
       "      <td>Hegewisch Metra Station</td>\n",
       "      <td>41.648501</td>\n",
       "      <td>-87.546090</td>\n",
       "      <td>15</td>\n",
       "      <td>20215</td>\n",
       "    </tr>\n",
       "  </tbody>\n",
       "</table>\n",
       "</div>"
      ],
      "text/plain": [
       "                             station_id  num_bikes_available  \\\n",
       "0                   1799277526470631980                    9   \n",
       "1  a3a5d3bb-a135-11e9-9cda-0a87ae2ba916                    5   \n",
       "2  a3aa4017-a135-11e9-9cda-0a87ae2ba916                    3   \n",
       "3  a3af2737-a135-11e9-9cda-0a87ae2ba916                   13   \n",
       "4  ff21c158-de98-46c6-9ef7-7082bdb7c634                   12   \n",
       "\n",
       "   num_bikes_disabled  num_docks_available  num_ebikes_available  n_classic  \\\n",
       "0                   0                    6                     3          6   \n",
       "1                   2                    7                     3          2   \n",
       "2                   3                    9                     3          0   \n",
       "3                   0                    2                     1         12   \n",
       "4                   1                    2                    10          2   \n",
       "\n",
       "   n_electric  n_all_bikes  is_no_classic  is_no_docks  is_problem_station  \\\n",
       "0           3            9          False        False               False   \n",
       "1           3            7          False        False               False   \n",
       "2           3            6           True        False                True   \n",
       "3           1           13          False        False               False   \n",
       "4          10           13          False        False               False   \n",
       "\n",
       "   station_id_len                       name        lat        lon  capacity  \\\n",
       "0              19     Lincoln Ave & Byron St  41.952372 -87.677296        15   \n",
       "1              36  Blue Island Ave & 18th St  41.857556 -87.661535        15   \n",
       "2              36    Broadway & Waveland Ave  41.949074 -87.648636        15   \n",
       "3              36     Clark St & Elmdale Ave  41.990860 -87.669724        15   \n",
       "4              36    Hegewisch Metra Station  41.648501 -87.546090        15   \n",
       "\n",
       "     short_name  \n",
       "0         23002  \n",
       "1         13135  \n",
       "2         13325  \n",
       "3  KA1504000148  \n",
       "4         20215  "
      ]
     },
     "execution_count": 16,
     "metadata": {},
     "output_type": "execute_result"
    }
   ],
   "source": [
    "df_stations = pd.merge(df_station_status, df_station_info, on='station_id')\n",
    "df_stations.head()"
   ]
  },
  {
   "cell_type": "code",
   "execution_count": 17,
   "id": "9deeeca8",
   "metadata": {},
   "outputs": [
    {
     "data": {
      "text/html": [
       "<div>\n",
       "<style scoped>\n",
       "    .dataframe tbody tr th:only-of-type {\n",
       "        vertical-align: middle;\n",
       "    }\n",
       "\n",
       "    .dataframe tbody tr th {\n",
       "        vertical-align: top;\n",
       "    }\n",
       "\n",
       "    .dataframe thead th {\n",
       "        text-align: right;\n",
       "    }\n",
       "</style>\n",
       "<table border=\"1\" class=\"dataframe\">\n",
       "  <thead>\n",
       "    <tr style=\"text-align: right;\">\n",
       "      <th></th>\n",
       "      <th>station_id</th>\n",
       "      <th>num_bikes_available</th>\n",
       "      <th>num_bikes_disabled</th>\n",
       "      <th>num_docks_available</th>\n",
       "      <th>num_ebikes_available</th>\n",
       "      <th>n_classic</th>\n",
       "      <th>n_electric</th>\n",
       "      <th>n_all_bikes</th>\n",
       "      <th>is_no_classic</th>\n",
       "      <th>is_no_docks</th>\n",
       "      <th>is_problem_station</th>\n",
       "      <th>station_id_len</th>\n",
       "      <th>name</th>\n",
       "      <th>lat</th>\n",
       "      <th>lon</th>\n",
       "      <th>capacity</th>\n",
       "      <th>short_name</th>\n",
       "      <th>is_public_rack</th>\n",
       "    </tr>\n",
       "  </thead>\n",
       "  <tbody>\n",
       "    <tr>\n",
       "      <th>0</th>\n",
       "      <td>1799277526470631980</td>\n",
       "      <td>9</td>\n",
       "      <td>0</td>\n",
       "      <td>6</td>\n",
       "      <td>3</td>\n",
       "      <td>6</td>\n",
       "      <td>3</td>\n",
       "      <td>9</td>\n",
       "      <td>False</td>\n",
       "      <td>False</td>\n",
       "      <td>False</td>\n",
       "      <td>19</td>\n",
       "      <td>Lincoln Ave &amp; Byron St</td>\n",
       "      <td>41.952372</td>\n",
       "      <td>-87.677296</td>\n",
       "      <td>15</td>\n",
       "      <td>23002</td>\n",
       "      <td>False</td>\n",
       "    </tr>\n",
       "    <tr>\n",
       "      <th>1</th>\n",
       "      <td>a3a5d3bb-a135-11e9-9cda-0a87ae2ba916</td>\n",
       "      <td>5</td>\n",
       "      <td>2</td>\n",
       "      <td>7</td>\n",
       "      <td>3</td>\n",
       "      <td>2</td>\n",
       "      <td>3</td>\n",
       "      <td>7</td>\n",
       "      <td>False</td>\n",
       "      <td>False</td>\n",
       "      <td>False</td>\n",
       "      <td>36</td>\n",
       "      <td>Blue Island Ave &amp; 18th St</td>\n",
       "      <td>41.857556</td>\n",
       "      <td>-87.661535</td>\n",
       "      <td>15</td>\n",
       "      <td>13135</td>\n",
       "      <td>False</td>\n",
       "    </tr>\n",
       "    <tr>\n",
       "      <th>2</th>\n",
       "      <td>a3aa4017-a135-11e9-9cda-0a87ae2ba916</td>\n",
       "      <td>3</td>\n",
       "      <td>3</td>\n",
       "      <td>9</td>\n",
       "      <td>3</td>\n",
       "      <td>0</td>\n",
       "      <td>3</td>\n",
       "      <td>6</td>\n",
       "      <td>True</td>\n",
       "      <td>False</td>\n",
       "      <td>True</td>\n",
       "      <td>36</td>\n",
       "      <td>Broadway &amp; Waveland Ave</td>\n",
       "      <td>41.949074</td>\n",
       "      <td>-87.648636</td>\n",
       "      <td>15</td>\n",
       "      <td>13325</td>\n",
       "      <td>False</td>\n",
       "    </tr>\n",
       "    <tr>\n",
       "      <th>3</th>\n",
       "      <td>a3af2737-a135-11e9-9cda-0a87ae2ba916</td>\n",
       "      <td>13</td>\n",
       "      <td>0</td>\n",
       "      <td>2</td>\n",
       "      <td>1</td>\n",
       "      <td>12</td>\n",
       "      <td>1</td>\n",
       "      <td>13</td>\n",
       "      <td>False</td>\n",
       "      <td>False</td>\n",
       "      <td>False</td>\n",
       "      <td>36</td>\n",
       "      <td>Clark St &amp; Elmdale Ave</td>\n",
       "      <td>41.990860</td>\n",
       "      <td>-87.669724</td>\n",
       "      <td>15</td>\n",
       "      <td>KA1504000148</td>\n",
       "      <td>False</td>\n",
       "    </tr>\n",
       "    <tr>\n",
       "      <th>4</th>\n",
       "      <td>ff21c158-de98-46c6-9ef7-7082bdb7c634</td>\n",
       "      <td>12</td>\n",
       "      <td>1</td>\n",
       "      <td>2</td>\n",
       "      <td>10</td>\n",
       "      <td>2</td>\n",
       "      <td>10</td>\n",
       "      <td>13</td>\n",
       "      <td>False</td>\n",
       "      <td>False</td>\n",
       "      <td>False</td>\n",
       "      <td>36</td>\n",
       "      <td>Hegewisch Metra Station</td>\n",
       "      <td>41.648501</td>\n",
       "      <td>-87.546090</td>\n",
       "      <td>15</td>\n",
       "      <td>20215</td>\n",
       "      <td>False</td>\n",
       "    </tr>\n",
       "    <tr>\n",
       "      <th>...</th>\n",
       "      <td>...</td>\n",
       "      <td>...</td>\n",
       "      <td>...</td>\n",
       "      <td>...</td>\n",
       "      <td>...</td>\n",
       "      <td>...</td>\n",
       "      <td>...</td>\n",
       "      <td>...</td>\n",
       "      <td>...</td>\n",
       "      <td>...</td>\n",
       "      <td>...</td>\n",
       "      <td>...</td>\n",
       "      <td>...</td>\n",
       "      <td>...</td>\n",
       "      <td>...</td>\n",
       "      <td>...</td>\n",
       "      <td>...</td>\n",
       "      <td>...</td>\n",
       "    </tr>\n",
       "    <tr>\n",
       "      <th>1643</th>\n",
       "      <td>1575949498093662914</td>\n",
       "      <td>2</td>\n",
       "      <td>1</td>\n",
       "      <td>7</td>\n",
       "      <td>2</td>\n",
       "      <td>0</td>\n",
       "      <td>0</td>\n",
       "      <td>3</td>\n",
       "      <td>True</td>\n",
       "      <td>False</td>\n",
       "      <td>True</td>\n",
       "      <td>19</td>\n",
       "      <td>Lavergne Ave &amp; Division St</td>\n",
       "      <td>41.902513</td>\n",
       "      <td>-87.750869</td>\n",
       "      <td>9</td>\n",
       "      <td>NaN</td>\n",
       "      <td>False</td>\n",
       "    </tr>\n",
       "    <tr>\n",
       "      <th>1644</th>\n",
       "      <td>1594046418168009436</td>\n",
       "      <td>6</td>\n",
       "      <td>1</td>\n",
       "      <td>2</td>\n",
       "      <td>6</td>\n",
       "      <td>0</td>\n",
       "      <td>0</td>\n",
       "      <td>7</td>\n",
       "      <td>True</td>\n",
       "      <td>False</td>\n",
       "      <td>True</td>\n",
       "      <td>19</td>\n",
       "      <td>Elston Ave &amp; Henderson St</td>\n",
       "      <td>41.941499</td>\n",
       "      <td>-87.701051</td>\n",
       "      <td>9</td>\n",
       "      <td>NaN</td>\n",
       "      <td>False</td>\n",
       "    </tr>\n",
       "    <tr>\n",
       "      <th>1650</th>\n",
       "      <td>1594046418168009438</td>\n",
       "      <td>1</td>\n",
       "      <td>0</td>\n",
       "      <td>7</td>\n",
       "      <td>1</td>\n",
       "      <td>0</td>\n",
       "      <td>0</td>\n",
       "      <td>1</td>\n",
       "      <td>True</td>\n",
       "      <td>False</td>\n",
       "      <td>True</td>\n",
       "      <td>19</td>\n",
       "      <td>Albany Ave &amp; Belmont Ave</td>\n",
       "      <td>41.939638</td>\n",
       "      <td>-87.705263</td>\n",
       "      <td>9</td>\n",
       "      <td>NaN</td>\n",
       "      <td>False</td>\n",
       "    </tr>\n",
       "    <tr>\n",
       "      <th>1652</th>\n",
       "      <td>1594046456822715150</td>\n",
       "      <td>5</td>\n",
       "      <td>1</td>\n",
       "      <td>3</td>\n",
       "      <td>5</td>\n",
       "      <td>0</td>\n",
       "      <td>0</td>\n",
       "      <td>6</td>\n",
       "      <td>True</td>\n",
       "      <td>False</td>\n",
       "      <td>True</td>\n",
       "      <td>19</td>\n",
       "      <td>Francisco Ave &amp; Hollywood Ave</td>\n",
       "      <td>41.984746</td>\n",
       "      <td>-87.701593</td>\n",
       "      <td>9</td>\n",
       "      <td>NaN</td>\n",
       "      <td>False</td>\n",
       "    </tr>\n",
       "    <tr>\n",
       "      <th>1661</th>\n",
       "      <td>1563698701206292480</td>\n",
       "      <td>1</td>\n",
       "      <td>1</td>\n",
       "      <td>7</td>\n",
       "      <td>1</td>\n",
       "      <td>0</td>\n",
       "      <td>0</td>\n",
       "      <td>2</td>\n",
       "      <td>True</td>\n",
       "      <td>False</td>\n",
       "      <td>True</td>\n",
       "      <td>19</td>\n",
       "      <td>Lamon Ave &amp; Belmont Ave</td>\n",
       "      <td>41.939011</td>\n",
       "      <td>-87.749283</td>\n",
       "      <td>9</td>\n",
       "      <td>NaN</td>\n",
       "      <td>False</td>\n",
       "    </tr>\n",
       "  </tbody>\n",
       "</table>\n",
       "<p>888 rows × 18 columns</p>\n",
       "</div>"
      ],
      "text/plain": [
       "                                station_id  num_bikes_available  \\\n",
       "0                      1799277526470631980                    9   \n",
       "1     a3a5d3bb-a135-11e9-9cda-0a87ae2ba916                    5   \n",
       "2     a3aa4017-a135-11e9-9cda-0a87ae2ba916                    3   \n",
       "3     a3af2737-a135-11e9-9cda-0a87ae2ba916                   13   \n",
       "4     ff21c158-de98-46c6-9ef7-7082bdb7c634                   12   \n",
       "...                                    ...                  ...   \n",
       "1643                   1575949498093662914                    2   \n",
       "1644                   1594046418168009436                    6   \n",
       "1650                   1594046418168009438                    1   \n",
       "1652                   1594046456822715150                    5   \n",
       "1661                   1563698701206292480                    1   \n",
       "\n",
       "      num_bikes_disabled  num_docks_available  num_ebikes_available  \\\n",
       "0                      0                    6                     3   \n",
       "1                      2                    7                     3   \n",
       "2                      3                    9                     3   \n",
       "3                      0                    2                     1   \n",
       "4                      1                    2                    10   \n",
       "...                  ...                  ...                   ...   \n",
       "1643                   1                    7                     2   \n",
       "1644                   1                    2                     6   \n",
       "1650                   0                    7                     1   \n",
       "1652                   1                    3                     5   \n",
       "1661                   1                    7                     1   \n",
       "\n",
       "      n_classic  n_electric  n_all_bikes  is_no_classic  is_no_docks  \\\n",
       "0             6           3            9          False        False   \n",
       "1             2           3            7          False        False   \n",
       "2             0           3            6           True        False   \n",
       "3            12           1           13          False        False   \n",
       "4             2          10           13          False        False   \n",
       "...         ...         ...          ...            ...          ...   \n",
       "1643          0           0            3           True        False   \n",
       "1644          0           0            7           True        False   \n",
       "1650          0           0            1           True        False   \n",
       "1652          0           0            6           True        False   \n",
       "1661          0           0            2           True        False   \n",
       "\n",
       "      is_problem_station  station_id_len                           name  \\\n",
       "0                  False              19         Lincoln Ave & Byron St   \n",
       "1                  False              36      Blue Island Ave & 18th St   \n",
       "2                   True              36        Broadway & Waveland Ave   \n",
       "3                  False              36         Clark St & Elmdale Ave   \n",
       "4                  False              36        Hegewisch Metra Station   \n",
       "...                  ...             ...                            ...   \n",
       "1643                True              19     Lavergne Ave & Division St   \n",
       "1644                True              19      Elston Ave & Henderson St   \n",
       "1650                True              19       Albany Ave & Belmont Ave   \n",
       "1652                True              19  Francisco Ave & Hollywood Ave   \n",
       "1661                True              19        Lamon Ave & Belmont Ave   \n",
       "\n",
       "            lat        lon  capacity    short_name  is_public_rack  \n",
       "0     41.952372 -87.677296        15         23002           False  \n",
       "1     41.857556 -87.661535        15         13135           False  \n",
       "2     41.949074 -87.648636        15         13325           False  \n",
       "3     41.990860 -87.669724        15  KA1504000148           False  \n",
       "4     41.648501 -87.546090        15         20215           False  \n",
       "...         ...        ...       ...           ...             ...  \n",
       "1643  41.902513 -87.750869         9           NaN           False  \n",
       "1644  41.941499 -87.701051         9           NaN           False  \n",
       "1650  41.939638 -87.705263         9           NaN           False  \n",
       "1652  41.984746 -87.701593         9           NaN           False  \n",
       "1661  41.939011 -87.749283         9           NaN           False  \n",
       "\n",
       "[888 rows x 18 columns]"
      ]
     },
     "execution_count": 17,
     "metadata": {},
     "output_type": "execute_result"
    }
   ],
   "source": [
    "#identify and remove public racks\n",
    "df_stations['is_public_rack']=df_stations['name'].str[:11]=='Public Rack'\n",
    "df_stations_divvy = df_stations[df_stations['is_public_rack']==False]\n",
    "df_stations_divvy"
   ]
  },
  {
   "cell_type": "code",
   "execution_count": 18,
   "id": "a0935563",
   "metadata": {},
   "outputs": [],
   "source": [
    "#clean name; this is moot since I've already stripped out the Public Rack stations\n",
    "# df_stations['name_cleaned'] = df_stations['name'].str.replace('^Public Rack - ', '', regex=True)\n",
    "# df_stations.drop(columns=['name'],inplace=True)"
   ]
  },
  {
   "cell_type": "markdown",
   "id": "262aa821",
   "metadata": {},
   "source": [
    "# Export for analysis"
   ]
  },
  {
   "cell_type": "code",
   "execution_count": 38,
   "id": "ec81fa6c",
   "metadata": {},
   "outputs": [
    {
     "data": {
      "text/plain": [
       "'../results/station_status_2023_11_16_0914AM.csv'"
      ]
     },
     "execution_count": 38,
     "metadata": {},
     "output_type": "execute_result"
    }
   ],
   "source": [
    "#create a filename using the timestamp as a suffix\n",
    "filename = f\"../results/station_status{status_timestamp}.csv\"\n",
    "filename"
   ]
  },
  {
   "cell_type": "code",
   "execution_count": 39,
   "id": "5703d708",
   "metadata": {},
   "outputs": [],
   "source": [
    "df_stations_divvy.to_csv(filename)"
   ]
  },
  {
   "cell_type": "markdown",
   "id": "31126ad5",
   "metadata": {},
   "source": [
    "# Summarize Data"
   ]
  },
  {
   "cell_type": "code",
   "execution_count": null,
   "id": "e0158731",
   "metadata": {},
   "outputs": [],
   "source": [
    "#total # of bikes\n",
    "# df_stations_divvy['n_all_bikes'].sum()"
   ]
  },
  {
   "cell_type": "code",
   "execution_count": null,
   "id": "686f818d",
   "metadata": {},
   "outputs": [],
   "source": [
    "#calculate percent broken bikes\n",
    "# 100*df_stations_divvy['n_broken_bikes'].sum()/df_stations['n_all_bikes'].sum()"
   ]
  },
  {
   "cell_type": "markdown",
   "id": "7ffbfd37",
   "metadata": {},
   "source": [
    "# Quality Check"
   ]
  },
  {
   "cell_type": "code",
   "execution_count": null,
   "id": "156368c5",
   "metadata": {},
   "outputs": [],
   "source": [
    "#nElectric doesn't always match num_ebikes_available, can be less than or greater\n",
    "#df_stations[df_stations['nElectric']!=df_stations['num_ebikes_available']]"
   ]
  },
  {
   "cell_type": "code",
   "execution_count": null,
   "id": "8ee537b8",
   "metadata": {},
   "outputs": [],
   "source": [
    "#confirm totals\n",
    "# df_stations['nBikes_check']= df_stations['nClassic'] + df_stations['nElectric']\n",
    "# df_stations[df_stations['nBikes']!=df_stations['nBikes_check']]"
   ]
  },
  {
   "cell_type": "code",
   "execution_count": null,
   "id": "dfda542b",
   "metadata": {},
   "outputs": [],
   "source": []
  }
 ],
 "metadata": {
  "kernelspec": {
   "display_name": "Python 3 (ipykernel)",
   "language": "python",
   "name": "python3"
  },
  "language_info": {
   "codemirror_mode": {
    "name": "ipython",
    "version": 3
   },
   "file_extension": ".py",
   "mimetype": "text/x-python",
   "name": "python",
   "nbconvert_exporter": "python",
   "pygments_lexer": "ipython3",
   "version": "3.10.12"
  }
 },
 "nbformat": 4,
 "nbformat_minor": 5
}
