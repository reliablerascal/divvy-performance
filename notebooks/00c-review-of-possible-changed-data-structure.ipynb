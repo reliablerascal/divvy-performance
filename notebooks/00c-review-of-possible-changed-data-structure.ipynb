{
 "cells": [
  {
   "cell_type": "markdown",
   "id": "5fc91a7a",
   "metadata": {},
   "source": [
    "# Review of Possible Changed Data Structure\n",
    "11/29/23<br>\n",
    "after running successfully on Monday & Tuesday, I’m getting the following error in python3 scripts/api-request.py:\n",
    "\n",
    "KeyError: \"['vehicle_docks_available'] not found in axis\"\n",
    "<br>"
   ]
  },
  {
   "cell_type": "markdown",
   "id": "91384245",
   "metadata": {},
   "source": [
    "# import libraries"
   ]
  },
  {
   "cell_type": "code",
   "execution_count": 1,
   "id": "73356b8e",
   "metadata": {},
   "outputs": [],
   "source": [
    "import pandas as pd\n",
    "import requests\n",
    "import datetime\n",
    "import pytz"
   ]
  },
  {
   "cell_type": "markdown",
   "id": "2c1fad74",
   "metadata": {},
   "source": [
    "# review vehicle types"
   ]
  },
  {
   "cell_type": "code",
   "execution_count": 2,
   "id": "30447b3d",
   "metadata": {},
   "outputs": [
    {
     "data": {
      "text/plain": [
       "<Response [200]>"
      ]
     },
     "execution_count": 2,
     "metadata": {},
     "output_type": "execute_result"
    }
   ],
   "source": [
    "url = f\"https://gbfs.lyft.com/gbfs/2.3/chi/en/vehicle_types.json?\"\n",
    "\n",
    "#run the query\n",
    "response = requests.get(url)\n",
    "data = response.json()\n",
    "response"
   ]
  },
  {
   "cell_type": "code",
   "execution_count": 3,
   "id": "d4e9fa53",
   "metadata": {},
   "outputs": [
    {
     "data": {
      "text/plain": [
       "dict_keys(['vehicle_types'])"
      ]
     },
     "execution_count": 3,
     "metadata": {},
     "output_type": "execute_result"
    }
   ],
   "source": [
    "#navigate through dictionaries to find station data\n",
    "#data.keys()\n",
    "data['data'].keys()"
   ]
  },
  {
   "cell_type": "code",
   "execution_count": 4,
   "id": "7612eb56",
   "metadata": {},
   "outputs": [
    {
     "data": {
      "text/plain": [
       "'_2023_11_29_0937AM'"
      ]
     },
     "execution_count": 4,
     "metadata": {},
     "output_type": "execute_result"
    }
   ],
   "source": [
    "central_tz = pytz.timezone('America/Chicago')\n",
    "status_timestamp = datetime.datetime.utcfromtimestamp(data['last_updated']).replace(tzinfo=pytz.utc)\n",
    "status_timestamp = status_timestamp.astimezone(central_tz).strftime('_%Y_%m_%d_%I%M%p')\n",
    "status_timestamp"
   ]
  },
  {
   "cell_type": "code",
   "execution_count": 5,
   "id": "0ebe1863",
   "metadata": {
    "scrolled": true
   },
   "outputs": [
    {
     "data": {
      "text/plain": [
       "[{'vehicle_type_id': '1',\n",
       "  'form_factor': 'bicycle',\n",
       "  'propulsion_type': 'human'},\n",
       " {'vehicle_type_id': '2',\n",
       "  'max_range_meters': 54717.56,\n",
       "  'form_factor': 'bicycle',\n",
       "  'propulsion_type': 'electric_assist'},\n",
       " {'vehicle_type_id': '3',\n",
       "  'max_range_meters': 70810.95999999999,\n",
       "  'form_factor': 'scooter',\n",
       "  'propulsion_type': 'electric'}]"
      ]
     },
     "execution_count": 5,
     "metadata": {},
     "output_type": "execute_result"
    }
   ],
   "source": [
    "#look at all data\n",
    "data['data']['vehicle_types']"
   ]
  },
  {
   "cell_type": "markdown",
   "id": "3fc958c4",
   "metadata": {},
   "source": [
    "# review station info"
   ]
  },
  {
   "cell_type": "code",
   "execution_count": 6,
   "id": "78de6584",
   "metadata": {},
   "outputs": [
    {
     "data": {
      "text/plain": [
       "<Response [200]>"
      ]
     },
     "execution_count": 6,
     "metadata": {},
     "output_type": "execute_result"
    }
   ],
   "source": [
    "url = f\"https://gbfs.lyft.com/gbfs/2.3/chi/en/station_information.json?\"\n",
    "\n",
    "#request data\n",
    "response = requests.get(url)\n",
    "data = response.json()\n",
    "response"
   ]
  },
  {
   "cell_type": "code",
   "execution_count": 7,
   "id": "0e922218",
   "metadata": {},
   "outputs": [
    {
     "data": {
      "text/plain": [
       "dict_keys(['stations'])"
      ]
     },
     "execution_count": 7,
     "metadata": {},
     "output_type": "execute_result"
    }
   ],
   "source": [
    "#navigate through dictionaries to find station data\n",
    "#data.keys()\n",
    "data['data'].keys()"
   ]
  },
  {
   "cell_type": "code",
   "execution_count": 8,
   "id": "feff0655",
   "metadata": {
    "scrolled": false
   },
   "outputs": [
    {
     "data": {
      "text/plain": [
       "{'lat': 41.916907,\n",
       " 'name': 'Parkside Ave & Armitage Ave',\n",
       " 'rental_uris': {'android': 'https://chi.lft.to/lastmile_qr_scan',\n",
       "  'ios': 'https://chi.lft.to/lastmile_qr_scan'},\n",
       " 'lon': -87.767173,\n",
       " 'short_name': '21354',\n",
       " 'station_id': '1871993715238611622',\n",
       " 'capacity': 15}"
      ]
     },
     "execution_count": 8,
     "metadata": {},
     "output_type": "execute_result"
    }
   ],
   "source": [
    "#look at the first station\n",
    "data['data']['stations'][0]"
   ]
  },
  {
   "cell_type": "code",
   "execution_count": 8,
   "id": "3653acc2",
   "metadata": {},
   "outputs": [
    {
     "data": {
      "text/html": [
       "<div>\n",
       "<style scoped>\n",
       "    .dataframe tbody tr th:only-of-type {\n",
       "        vertical-align: middle;\n",
       "    }\n",
       "\n",
       "    .dataframe tbody tr th {\n",
       "        vertical-align: top;\n",
       "    }\n",
       "\n",
       "    .dataframe thead th {\n",
       "        text-align: right;\n",
       "    }\n",
       "</style>\n",
       "<table border=\"1\" class=\"dataframe\">\n",
       "  <thead>\n",
       "    <tr style=\"text-align: right;\">\n",
       "      <th></th>\n",
       "      <th>station_id</th>\n",
       "      <th>name</th>\n",
       "      <th>lat</th>\n",
       "      <th>lon</th>\n",
       "      <th>capacity</th>\n",
       "      <th>short_name</th>\n",
       "    </tr>\n",
       "  </thead>\n",
       "  <tbody>\n",
       "    <tr>\n",
       "      <th>0</th>\n",
       "      <td>a3af2737-a135-11e9-9cda-0a87ae2ba916</td>\n",
       "      <td>Clark St &amp; Elmdale Ave</td>\n",
       "      <td>41.990860</td>\n",
       "      <td>-87.669724</td>\n",
       "      <td>15</td>\n",
       "      <td>KA1504000148</td>\n",
       "    </tr>\n",
       "    <tr>\n",
       "      <th>1</th>\n",
       "      <td>a3b20960-a135-11e9-9cda-0a87ae2ba916</td>\n",
       "      <td>Damen Ave &amp; 51st St</td>\n",
       "      <td>41.800908</td>\n",
       "      <td>-87.674684</td>\n",
       "      <td>7</td>\n",
       "      <td>554</td>\n",
       "    </tr>\n",
       "    <tr>\n",
       "      <th>2</th>\n",
       "      <td>a3a9c0f6-a135-11e9-9cda-0a87ae2ba916</td>\n",
       "      <td>Morgan St &amp; 31st St</td>\n",
       "      <td>41.837800</td>\n",
       "      <td>-87.651140</td>\n",
       "      <td>11</td>\n",
       "      <td>TA1308000046</td>\n",
       "    </tr>\n",
       "    <tr>\n",
       "      <th>3</th>\n",
       "      <td>94788869-1849-43f6-99e1-2eacbc3fab03</td>\n",
       "      <td>Morgan St &amp; Lake St*</td>\n",
       "      <td>41.885492</td>\n",
       "      <td>-87.652289</td>\n",
       "      <td>20</td>\n",
       "      <td>chargingstx4</td>\n",
       "    </tr>\n",
       "    <tr>\n",
       "      <th>4</th>\n",
       "      <td>a3aae35a-a135-11e9-9cda-0a87ae2ba916</td>\n",
       "      <td>Calumet Ave &amp; 35th St</td>\n",
       "      <td>41.831379</td>\n",
       "      <td>-87.618034</td>\n",
       "      <td>15</td>\n",
       "      <td>13345</td>\n",
       "    </tr>\n",
       "  </tbody>\n",
       "</table>\n",
       "</div>"
      ],
      "text/plain": [
       "                             station_id                    name        lat  \\\n",
       "0  a3af2737-a135-11e9-9cda-0a87ae2ba916  Clark St & Elmdale Ave  41.990860   \n",
       "1  a3b20960-a135-11e9-9cda-0a87ae2ba916     Damen Ave & 51st St  41.800908   \n",
       "2  a3a9c0f6-a135-11e9-9cda-0a87ae2ba916     Morgan St & 31st St  41.837800   \n",
       "3  94788869-1849-43f6-99e1-2eacbc3fab03    Morgan St & Lake St*  41.885492   \n",
       "4  a3aae35a-a135-11e9-9cda-0a87ae2ba916   Calumet Ave & 35th St  41.831379   \n",
       "\n",
       "         lon  capacity    short_name  \n",
       "0 -87.669724        15  KA1504000148  \n",
       "1 -87.674684         7           554  \n",
       "2 -87.651140        11  TA1308000046  \n",
       "3 -87.652289        20  chargingstx4  \n",
       "4 -87.618034        15         13345  "
      ]
     },
     "execution_count": 8,
     "metadata": {},
     "output_type": "execute_result"
    }
   ],
   "source": [
    "df_station_info = pd.DataFrame(data['data']['stations'], columns=['station_id','name','lat','lon','capacity','short_name'])\n",
    "df_station_info.head()"
   ]
  },
  {
   "cell_type": "markdown",
   "id": "209d84bd",
   "metadata": {},
   "source": [
    "# review station status"
   ]
  },
  {
   "cell_type": "markdown",
   "id": "6211e9c6",
   "metadata": {},
   "source": [
    "### review data structures"
   ]
  },
  {
   "cell_type": "code",
   "execution_count": 9,
   "id": "35f5f153",
   "metadata": {},
   "outputs": [
    {
     "data": {
      "text/plain": [
       "<Response [200]>"
      ]
     },
     "execution_count": 9,
     "metadata": {},
     "output_type": "execute_result"
    }
   ],
   "source": [
    "#run the query\n",
    "url = f\"https://gbfs.lyft.com/gbfs/2.3/chi/en/station_status.json?\"\n",
    "response = requests.get(url)\n",
    "data = response.json()\n",
    "response"
   ]
  },
  {
   "cell_type": "code",
   "execution_count": 10,
   "id": "ee2e96cb",
   "metadata": {},
   "outputs": [
    {
     "data": {
      "text/plain": [
       "dict_keys(['stations'])"
      ]
     },
     "execution_count": 10,
     "metadata": {},
     "output_type": "execute_result"
    }
   ],
   "source": [
    "#navigate through dictionaries to find station data\n",
    "# data.keys()\n",
    "data['data'].keys()"
   ]
  },
  {
   "cell_type": "code",
   "execution_count": 12,
   "id": "43fc384a",
   "metadata": {},
   "outputs": [
    {
     "data": {
      "text/plain": [
       "{'num_bikes_disabled': 0,\n",
       " 'num_bikes_available': 0,\n",
       " 'is_renting': 1,\n",
       " 'num_docks_available': 15,\n",
       " 'last_reported': 1701272230,\n",
       " 'is_installed': 1,\n",
       " 'is_returning': 1,\n",
       " 'num_ebikes_available': 0,\n",
       " 'vehicle_types_available': [{'count': 0, 'vehicle_type_id': '1'},\n",
       "  {'count': 0, 'vehicle_type_id': '2'}],\n",
       " 'num_docks_disabled': 0,\n",
       " 'station_id': 'a3af2737-a135-11e9-9cda-0a87ae2ba916'}"
      ]
     },
     "execution_count": 12,
     "metadata": {},
     "output_type": "execute_result"
    }
   ],
   "source": [
    "#look at the first station\n",
    "data_station_status = data['data']['stations']\n",
    "data_station_status[0]"
   ]
  },
  {
   "cell_type": "code",
   "execution_count": 13,
   "id": "9d65f957",
   "metadata": {},
   "outputs": [],
   "source": [
    "#read into dataframe and rename columns\n",
    "df_station_status= pd.DataFrame(data_station_status, columns=\n",
    "        ['station_id','num_bikes_available','vehicle_docks_available',\n",
    "         'vehicle_types_available','num_bikes_disabled','num_docks_available','num_ebikes_available'])"
   ]
  },
  {
   "cell_type": "code",
   "execution_count": 16,
   "id": "fbbde01d",
   "metadata": {},
   "outputs": [
    {
     "data": {
      "text/html": [
       "<div>\n",
       "<style scoped>\n",
       "    .dataframe tbody tr th:only-of-type {\n",
       "        vertical-align: middle;\n",
       "    }\n",
       "\n",
       "    .dataframe tbody tr th {\n",
       "        vertical-align: top;\n",
       "    }\n",
       "\n",
       "    .dataframe thead th {\n",
       "        text-align: right;\n",
       "    }\n",
       "</style>\n",
       "<table border=\"1\" class=\"dataframe\">\n",
       "  <thead>\n",
       "    <tr style=\"text-align: right;\">\n",
       "      <th></th>\n",
       "      <th>station_id</th>\n",
       "      <th>num_bikes_available</th>\n",
       "      <th>vehicle_docks_available</th>\n",
       "      <th>vehicle_types_available</th>\n",
       "      <th>num_bikes_disabled</th>\n",
       "      <th>num_docks_available</th>\n",
       "      <th>num_ebikes_available</th>\n",
       "      <th>n_classic</th>\n",
       "      <th>n_electric</th>\n",
       "      <th>n_scooters</th>\n",
       "    </tr>\n",
       "  </thead>\n",
       "  <tbody>\n",
       "    <tr>\n",
       "      <th>0</th>\n",
       "      <td>a3af2737-a135-11e9-9cda-0a87ae2ba916</td>\n",
       "      <td>0</td>\n",
       "      <td>NaN</td>\n",
       "      <td>[{'count': 0, 'vehicle_type_id': '1'}, {'count...</td>\n",
       "      <td>0</td>\n",
       "      <td>15</td>\n",
       "      <td>0</td>\n",
       "      <td>0</td>\n",
       "      <td>0</td>\n",
       "      <td>0</td>\n",
       "    </tr>\n",
       "    <tr>\n",
       "      <th>1</th>\n",
       "      <td>a3b20960-a135-11e9-9cda-0a87ae2ba916</td>\n",
       "      <td>4</td>\n",
       "      <td>NaN</td>\n",
       "      <td>[{'count': 0, 'vehicle_type_id': '1'}, {'count...</td>\n",
       "      <td>0</td>\n",
       "      <td>3</td>\n",
       "      <td>4</td>\n",
       "      <td>0</td>\n",
       "      <td>4</td>\n",
       "      <td>0</td>\n",
       "    </tr>\n",
       "    <tr>\n",
       "      <th>2</th>\n",
       "      <td>a3a9c0f6-a135-11e9-9cda-0a87ae2ba916</td>\n",
       "      <td>0</td>\n",
       "      <td>NaN</td>\n",
       "      <td>[{'count': 0, 'vehicle_type_id': '1'}, {'count...</td>\n",
       "      <td>1</td>\n",
       "      <td>10</td>\n",
       "      <td>0</td>\n",
       "      <td>0</td>\n",
       "      <td>0</td>\n",
       "      <td>0</td>\n",
       "    </tr>\n",
       "    <tr>\n",
       "      <th>3</th>\n",
       "      <td>94788869-1849-43f6-99e1-2eacbc3fab03</td>\n",
       "      <td>14</td>\n",
       "      <td>NaN</td>\n",
       "      <td>[{'count': 10, 'vehicle_type_id': '1'}, {'coun...</td>\n",
       "      <td>0</td>\n",
       "      <td>4</td>\n",
       "      <td>4</td>\n",
       "      <td>10</td>\n",
       "      <td>4</td>\n",
       "      <td>0</td>\n",
       "    </tr>\n",
       "    <tr>\n",
       "      <th>4</th>\n",
       "      <td>a3aae35a-a135-11e9-9cda-0a87ae2ba916</td>\n",
       "      <td>12</td>\n",
       "      <td>NaN</td>\n",
       "      <td>[{'count': 10, 'vehicle_type_id': '1'}, {'coun...</td>\n",
       "      <td>0</td>\n",
       "      <td>3</td>\n",
       "      <td>2</td>\n",
       "      <td>10</td>\n",
       "      <td>2</td>\n",
       "      <td>0</td>\n",
       "    </tr>\n",
       "  </tbody>\n",
       "</table>\n",
       "</div>"
      ],
      "text/plain": [
       "                             station_id  num_bikes_available  \\\n",
       "0  a3af2737-a135-11e9-9cda-0a87ae2ba916                    0   \n",
       "1  a3b20960-a135-11e9-9cda-0a87ae2ba916                    4   \n",
       "2  a3a9c0f6-a135-11e9-9cda-0a87ae2ba916                    0   \n",
       "3  94788869-1849-43f6-99e1-2eacbc3fab03                   14   \n",
       "4  a3aae35a-a135-11e9-9cda-0a87ae2ba916                   12   \n",
       "\n",
       "   vehicle_docks_available                            vehicle_types_available  \\\n",
       "0                      NaN  [{'count': 0, 'vehicle_type_id': '1'}, {'count...   \n",
       "1                      NaN  [{'count': 0, 'vehicle_type_id': '1'}, {'count...   \n",
       "2                      NaN  [{'count': 0, 'vehicle_type_id': '1'}, {'count...   \n",
       "3                      NaN  [{'count': 10, 'vehicle_type_id': '1'}, {'coun...   \n",
       "4                      NaN  [{'count': 10, 'vehicle_type_id': '1'}, {'coun...   \n",
       "\n",
       "   num_bikes_disabled  num_docks_available  num_ebikes_available  n_classic  \\\n",
       "0                   0                   15                     0          0   \n",
       "1                   0                    3                     4          0   \n",
       "2                   1                   10                     0          0   \n",
       "3                   0                    4                     4         10   \n",
       "4                   0                    3                     2         10   \n",
       "\n",
       "   n_electric  n_scooters  \n",
       "0           0           0  \n",
       "1           4           0  \n",
       "2           0           0  \n",
       "3           4           0  \n",
       "4           2           0  "
      ]
     },
     "execution_count": 16,
     "metadata": {},
     "output_type": "execute_result"
    }
   ],
   "source": [
    "df_station_status.head()"
   ]
  },
  {
   "cell_type": "markdown",
   "id": "cc86f8b1",
   "metadata": {},
   "source": [
    "### review vehicle type dictionary"
   ]
  },
  {
   "cell_type": "code",
   "execution_count": 14,
   "id": "0e8ca9cc",
   "metadata": {},
   "outputs": [
    {
     "data": {
      "text/html": [
       "<div>\n",
       "<style scoped>\n",
       "    .dataframe tbody tr th:only-of-type {\n",
       "        vertical-align: middle;\n",
       "    }\n",
       "\n",
       "    .dataframe tbody tr th {\n",
       "        vertical-align: top;\n",
       "    }\n",
       "\n",
       "    .dataframe thead th {\n",
       "        text-align: right;\n",
       "    }\n",
       "</style>\n",
       "<table border=\"1\" class=\"dataframe\">\n",
       "  <thead>\n",
       "    <tr style=\"text-align: right;\">\n",
       "      <th></th>\n",
       "      <th>station_id</th>\n",
       "      <th>n_classic</th>\n",
       "      <th>n_electric</th>\n",
       "      <th>n_scooters</th>\n",
       "    </tr>\n",
       "  </thead>\n",
       "  <tbody>\n",
       "    <tr>\n",
       "      <th>0</th>\n",
       "      <td>a3af2737-a135-11e9-9cda-0a87ae2ba916</td>\n",
       "      <td>0</td>\n",
       "      <td>0</td>\n",
       "      <td>0</td>\n",
       "    </tr>\n",
       "    <tr>\n",
       "      <th>1</th>\n",
       "      <td>a3b20960-a135-11e9-9cda-0a87ae2ba916</td>\n",
       "      <td>0</td>\n",
       "      <td>4</td>\n",
       "      <td>0</td>\n",
       "    </tr>\n",
       "    <tr>\n",
       "      <th>2</th>\n",
       "      <td>a3a9c0f6-a135-11e9-9cda-0a87ae2ba916</td>\n",
       "      <td>0</td>\n",
       "      <td>0</td>\n",
       "      <td>0</td>\n",
       "    </tr>\n",
       "    <tr>\n",
       "      <th>3</th>\n",
       "      <td>94788869-1849-43f6-99e1-2eacbc3fab03</td>\n",
       "      <td>10</td>\n",
       "      <td>4</td>\n",
       "      <td>0</td>\n",
       "    </tr>\n",
       "    <tr>\n",
       "      <th>4</th>\n",
       "      <td>a3aae35a-a135-11e9-9cda-0a87ae2ba916</td>\n",
       "      <td>10</td>\n",
       "      <td>2</td>\n",
       "      <td>0</td>\n",
       "    </tr>\n",
       "  </tbody>\n",
       "</table>\n",
       "</div>"
      ],
      "text/plain": [
       "                             station_id  n_classic  n_electric  n_scooters\n",
       "0  a3af2737-a135-11e9-9cda-0a87ae2ba916          0           0           0\n",
       "1  a3b20960-a135-11e9-9cda-0a87ae2ba916          0           4           0\n",
       "2  a3a9c0f6-a135-11e9-9cda-0a87ae2ba916          0           0           0\n",
       "3  94788869-1849-43f6-99e1-2eacbc3fab03         10           4           0\n",
       "4  a3aae35a-a135-11e9-9cda-0a87ae2ba916         10           2           0"
      ]
     },
     "execution_count": 14,
     "metadata": {},
     "output_type": "execute_result"
    }
   ],
   "source": [
    "#extract vehicle type info\n",
    "df_station_status['n_classic'] = df_station_status['vehicle_types_available'].apply(\n",
    "    lambda x: next((item['count'] for item in x if item['vehicle_type_id'] == '1'), 0))\n",
    "df_station_status['n_electric'] = df_station_status['vehicle_types_available'].apply(\n",
    "    lambda x: next((item['count'] for item in x if item['vehicle_type_id'] == '2'), 0))\n",
    "df_station_status['n_scooters'] = df_station_status['vehicle_types_available'].apply(\n",
    "    lambda x: next((item['count'] for item in x if item['vehicle_type_id'] == '3'), 0))\n",
    "\n",
    "df_station_status[['station_id','n_classic','n_electric','n_scooters']].head()"
   ]
  },
  {
   "cell_type": "markdown",
   "id": "281654cf",
   "metadata": {},
   "source": [
    "### review dock types dictionary"
   ]
  },
  {
   "cell_type": "code",
   "execution_count": 17,
   "id": "ce00d3f3",
   "metadata": {},
   "outputs": [
    {
     "data": {
      "text/plain": [
       "0      NaN\n",
       "1      NaN\n",
       "2      NaN\n",
       "3      NaN\n",
       "4      NaN\n",
       "        ..\n",
       "1665   NaN\n",
       "1666   NaN\n",
       "1667   NaN\n",
       "1668   NaN\n",
       "1669   NaN\n",
       "Name: vehicle_docks_available, Length: 1670, dtype: float64"
      ]
     },
     "execution_count": 17,
     "metadata": {},
     "output_type": "execute_result"
    }
   ],
   "source": [
    "df_station_status['vehicle_docks_available']"
   ]
  },
  {
   "cell_type": "code",
   "execution_count": 18,
   "id": "431e53b7",
   "metadata": {},
   "outputs": [
    {
     "ename": "TypeError",
     "evalue": "'float' object is not subscriptable",
     "output_type": "error",
     "traceback": [
      "\u001b[0;31m---------------------------------------------------------------------------\u001b[0m",
      "\u001b[0;31mTypeError\u001b[0m                                 Traceback (most recent call last)",
      "\u001b[0;32m/tmp/ipykernel_1018/3968969440.py\u001b[0m in \u001b[0;36m<module>\u001b[0;34m\u001b[0m\n\u001b[1;32m      1\u001b[0m df_station_status['dock_type_ids'] = df_station_status[\n\u001b[0;32m----> 2\u001b[0;31m     'vehicle_docks_available'].apply(lambda x: x[0]['vehicle_type_ids'] if x else None)\n\u001b[0m\u001b[1;32m      3\u001b[0m \u001b[0mdf_station_status\u001b[0m\u001b[0;34m[\u001b[0m\u001b[0;34m'n_docks'\u001b[0m\u001b[0;34m]\u001b[0m \u001b[0;34m=\u001b[0m \u001b[0mdf_station_status\u001b[0m\u001b[0;34m[\u001b[0m\u001b[0;34m'vehicle_docks_available'\u001b[0m\u001b[0;34m]\u001b[0m\u001b[0;34m.\u001b[0m\u001b[0mapply\u001b[0m\u001b[0;34m(\u001b[0m\u001b[0;32mlambda\u001b[0m \u001b[0mx\u001b[0m\u001b[0;34m:\u001b[0m \u001b[0mx\u001b[0m\u001b[0;34m[\u001b[0m\u001b[0;36m0\u001b[0m\u001b[0;34m]\u001b[0m\u001b[0;34m[\u001b[0m\u001b[0;34m'count'\u001b[0m\u001b[0;34m]\u001b[0m \u001b[0;32mif\u001b[0m \u001b[0mx\u001b[0m \u001b[0;32melse\u001b[0m \u001b[0;32mNone\u001b[0m\u001b[0;34m)\u001b[0m\u001b[0;34m\u001b[0m\u001b[0;34m\u001b[0m\u001b[0m\n",
      "\u001b[0;32m~/.local/lib/python3.10/site-packages/pandas/core/series.py\u001b[0m in \u001b[0;36mapply\u001b[0;34m(self, func, convert_dtype, args, by_row, **kwargs)\u001b[0m\n\u001b[1;32m   4758\u001b[0m             \u001b[0margs\u001b[0m\u001b[0;34m=\u001b[0m\u001b[0margs\u001b[0m\u001b[0;34m,\u001b[0m\u001b[0;34m\u001b[0m\u001b[0;34m\u001b[0m\u001b[0m\n\u001b[1;32m   4759\u001b[0m             \u001b[0mkwargs\u001b[0m\u001b[0;34m=\u001b[0m\u001b[0mkwargs\u001b[0m\u001b[0;34m,\u001b[0m\u001b[0;34m\u001b[0m\u001b[0;34m\u001b[0m\u001b[0m\n\u001b[0;32m-> 4760\u001b[0;31m         ).apply()\n\u001b[0m\u001b[1;32m   4761\u001b[0m \u001b[0;34m\u001b[0m\u001b[0m\n\u001b[1;32m   4762\u001b[0m     def _reindex_indexer(\n",
      "\u001b[0;32m~/.local/lib/python3.10/site-packages/pandas/core/apply.py\u001b[0m in \u001b[0;36mapply\u001b[0;34m(self)\u001b[0m\n\u001b[1;32m   1205\u001b[0m \u001b[0;34m\u001b[0m\u001b[0m\n\u001b[1;32m   1206\u001b[0m         \u001b[0;31m# self.func is Callable\u001b[0m\u001b[0;34m\u001b[0m\u001b[0;34m\u001b[0m\u001b[0m\n\u001b[0;32m-> 1207\u001b[0;31m         \u001b[0;32mreturn\u001b[0m \u001b[0mself\u001b[0m\u001b[0;34m.\u001b[0m\u001b[0mapply_standard\u001b[0m\u001b[0;34m(\u001b[0m\u001b[0;34m)\u001b[0m\u001b[0;34m\u001b[0m\u001b[0;34m\u001b[0m\u001b[0m\n\u001b[0m\u001b[1;32m   1208\u001b[0m \u001b[0;34m\u001b[0m\u001b[0m\n\u001b[1;32m   1209\u001b[0m     \u001b[0;32mdef\u001b[0m \u001b[0magg\u001b[0m\u001b[0;34m(\u001b[0m\u001b[0mself\u001b[0m\u001b[0;34m)\u001b[0m\u001b[0;34m:\u001b[0m\u001b[0;34m\u001b[0m\u001b[0;34m\u001b[0m\u001b[0m\n",
      "\u001b[0;32m~/.local/lib/python3.10/site-packages/pandas/core/apply.py\u001b[0m in \u001b[0;36mapply_standard\u001b[0;34m(self)\u001b[0m\n\u001b[1;32m   1285\u001b[0m         \u001b[0;31m#  Categorical (GH51645).\u001b[0m\u001b[0;34m\u001b[0m\u001b[0;34m\u001b[0m\u001b[0m\n\u001b[1;32m   1286\u001b[0m         \u001b[0maction\u001b[0m \u001b[0;34m=\u001b[0m \u001b[0;34m\"ignore\"\u001b[0m \u001b[0;32mif\u001b[0m \u001b[0misinstance\u001b[0m\u001b[0;34m(\u001b[0m\u001b[0mobj\u001b[0m\u001b[0;34m.\u001b[0m\u001b[0mdtype\u001b[0m\u001b[0;34m,\u001b[0m \u001b[0mCategoricalDtype\u001b[0m\u001b[0;34m)\u001b[0m \u001b[0;32melse\u001b[0m \u001b[0;32mNone\u001b[0m\u001b[0;34m\u001b[0m\u001b[0;34m\u001b[0m\u001b[0m\n\u001b[0;32m-> 1287\u001b[0;31m         mapped = obj._map_values(\n\u001b[0m\u001b[1;32m   1288\u001b[0m             \u001b[0mmapper\u001b[0m\u001b[0;34m=\u001b[0m\u001b[0mcurried\u001b[0m\u001b[0;34m,\u001b[0m \u001b[0mna_action\u001b[0m\u001b[0;34m=\u001b[0m\u001b[0maction\u001b[0m\u001b[0;34m,\u001b[0m \u001b[0mconvert\u001b[0m\u001b[0;34m=\u001b[0m\u001b[0mself\u001b[0m\u001b[0;34m.\u001b[0m\u001b[0mconvert_dtype\u001b[0m\u001b[0;34m\u001b[0m\u001b[0;34m\u001b[0m\u001b[0m\n\u001b[1;32m   1289\u001b[0m         )\n",
      "\u001b[0;32m~/.local/lib/python3.10/site-packages/pandas/core/base.py\u001b[0m in \u001b[0;36m_map_values\u001b[0;34m(self, mapper, na_action, convert)\u001b[0m\n\u001b[1;32m    919\u001b[0m             \u001b[0;32mreturn\u001b[0m \u001b[0marr\u001b[0m\u001b[0;34m.\u001b[0m\u001b[0mmap\u001b[0m\u001b[0;34m(\u001b[0m\u001b[0mmapper\u001b[0m\u001b[0;34m,\u001b[0m \u001b[0mna_action\u001b[0m\u001b[0;34m=\u001b[0m\u001b[0mna_action\u001b[0m\u001b[0;34m)\u001b[0m\u001b[0;34m\u001b[0m\u001b[0;34m\u001b[0m\u001b[0m\n\u001b[1;32m    920\u001b[0m \u001b[0;34m\u001b[0m\u001b[0m\n\u001b[0;32m--> 921\u001b[0;31m         \u001b[0;32mreturn\u001b[0m \u001b[0malgorithms\u001b[0m\u001b[0;34m.\u001b[0m\u001b[0mmap_array\u001b[0m\u001b[0;34m(\u001b[0m\u001b[0marr\u001b[0m\u001b[0;34m,\u001b[0m \u001b[0mmapper\u001b[0m\u001b[0;34m,\u001b[0m \u001b[0mna_action\u001b[0m\u001b[0;34m=\u001b[0m\u001b[0mna_action\u001b[0m\u001b[0;34m,\u001b[0m \u001b[0mconvert\u001b[0m\u001b[0;34m=\u001b[0m\u001b[0mconvert\u001b[0m\u001b[0;34m)\u001b[0m\u001b[0;34m\u001b[0m\u001b[0;34m\u001b[0m\u001b[0m\n\u001b[0m\u001b[1;32m    922\u001b[0m \u001b[0;34m\u001b[0m\u001b[0m\n\u001b[1;32m    923\u001b[0m     \u001b[0;34m@\u001b[0m\u001b[0mfinal\u001b[0m\u001b[0;34m\u001b[0m\u001b[0;34m\u001b[0m\u001b[0m\n",
      "\u001b[0;32m~/.local/lib/python3.10/site-packages/pandas/core/algorithms.py\u001b[0m in \u001b[0;36mmap_array\u001b[0;34m(arr, mapper, na_action, convert)\u001b[0m\n\u001b[1;32m   1812\u001b[0m     \u001b[0mvalues\u001b[0m \u001b[0;34m=\u001b[0m \u001b[0marr\u001b[0m\u001b[0;34m.\u001b[0m\u001b[0mastype\u001b[0m\u001b[0;34m(\u001b[0m\u001b[0mobject\u001b[0m\u001b[0;34m,\u001b[0m \u001b[0mcopy\u001b[0m\u001b[0;34m=\u001b[0m\u001b[0;32mFalse\u001b[0m\u001b[0;34m)\u001b[0m\u001b[0;34m\u001b[0m\u001b[0;34m\u001b[0m\u001b[0m\n\u001b[1;32m   1813\u001b[0m     \u001b[0;32mif\u001b[0m \u001b[0mna_action\u001b[0m \u001b[0;32mis\u001b[0m \u001b[0;32mNone\u001b[0m\u001b[0;34m:\u001b[0m\u001b[0;34m\u001b[0m\u001b[0;34m\u001b[0m\u001b[0m\n\u001b[0;32m-> 1814\u001b[0;31m         \u001b[0;32mreturn\u001b[0m \u001b[0mlib\u001b[0m\u001b[0;34m.\u001b[0m\u001b[0mmap_infer\u001b[0m\u001b[0;34m(\u001b[0m\u001b[0mvalues\u001b[0m\u001b[0;34m,\u001b[0m \u001b[0mmapper\u001b[0m\u001b[0;34m,\u001b[0m \u001b[0mconvert\u001b[0m\u001b[0;34m=\u001b[0m\u001b[0mconvert\u001b[0m\u001b[0;34m)\u001b[0m\u001b[0;34m\u001b[0m\u001b[0;34m\u001b[0m\u001b[0m\n\u001b[0m\u001b[1;32m   1815\u001b[0m     \u001b[0;32melse\u001b[0m\u001b[0;34m:\u001b[0m\u001b[0;34m\u001b[0m\u001b[0;34m\u001b[0m\u001b[0m\n\u001b[1;32m   1816\u001b[0m         return lib.map_infer_mask(\n",
      "\u001b[0;32mlib.pyx\u001b[0m in \u001b[0;36mpandas._libs.lib.map_infer\u001b[0;34m()\u001b[0m\n",
      "\u001b[0;32m/tmp/ipykernel_1018/3968969440.py\u001b[0m in \u001b[0;36m<lambda>\u001b[0;34m(x)\u001b[0m\n\u001b[1;32m      1\u001b[0m df_station_status['dock_type_ids'] = df_station_status[\n\u001b[0;32m----> 2\u001b[0;31m     'vehicle_docks_available'].apply(lambda x: x[0]['vehicle_type_ids'] if x else None)\n\u001b[0m\u001b[1;32m      3\u001b[0m \u001b[0mdf_station_status\u001b[0m\u001b[0;34m[\u001b[0m\u001b[0;34m'n_docks'\u001b[0m\u001b[0;34m]\u001b[0m \u001b[0;34m=\u001b[0m \u001b[0mdf_station_status\u001b[0m\u001b[0;34m[\u001b[0m\u001b[0;34m'vehicle_docks_available'\u001b[0m\u001b[0;34m]\u001b[0m\u001b[0;34m.\u001b[0m\u001b[0mapply\u001b[0m\u001b[0;34m(\u001b[0m\u001b[0;32mlambda\u001b[0m \u001b[0mx\u001b[0m\u001b[0;34m:\u001b[0m \u001b[0mx\u001b[0m\u001b[0;34m[\u001b[0m\u001b[0;36m0\u001b[0m\u001b[0;34m]\u001b[0m\u001b[0;34m[\u001b[0m\u001b[0;34m'count'\u001b[0m\u001b[0;34m]\u001b[0m \u001b[0;32mif\u001b[0m \u001b[0mx\u001b[0m \u001b[0;32melse\u001b[0m \u001b[0;32mNone\u001b[0m\u001b[0;34m)\u001b[0m\u001b[0;34m\u001b[0m\u001b[0;34m\u001b[0m\u001b[0m\n",
      "\u001b[0;31mTypeError\u001b[0m: 'float' object is not subscriptable"
     ]
    }
   ],
   "source": [
    "df_station_status['dock_type_ids'] = df_station_status[\n",
    "    'vehicle_docks_available'].apply(lambda x: x[0]['vehicle_type_ids'] if x else None)\n",
    "df_station_status['n_docks'] = df_station_status['vehicle_docks_available'].apply(lambda x: x[0]['count'] if x else None)"
   ]
  },
  {
   "cell_type": "code",
   "execution_count": null,
   "id": "01bf2875",
   "metadata": {},
   "outputs": [],
   "source": []
  }
 ],
 "metadata": {
  "kernelspec": {
   "display_name": "Python 3 (ipykernel)",
   "language": "python",
   "name": "python3"
  },
  "language_info": {
   "codemirror_mode": {
    "name": "ipython",
    "version": 3
   },
   "file_extension": ".py",
   "mimetype": "text/x-python",
   "name": "python",
   "nbconvert_exporter": "python",
   "pygments_lexer": "ipython3",
   "version": "3.10.12"
  }
 },
 "nbformat": 4,
 "nbformat_minor": 5
}
