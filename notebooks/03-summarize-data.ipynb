{
 "cells": [
  {
   "cell_type": "markdown",
   "id": "24e724a2",
   "metadata": {},
   "source": [
    "# Summarize Data\n",
    "11/17/23<br>\n",
    "This notebook analyzes Divvy station status over time and organizes results for analysis<br>"
   ]
  },
  {
   "cell_type": "markdown",
   "id": "91384245",
   "metadata": {},
   "source": [
    "# import libraries and set up analysis"
   ]
  },
  {
   "cell_type": "code",
   "execution_count": 20,
   "id": "7fe0b6cf",
   "metadata": {},
   "outputs": [],
   "source": [
    "import pandas as pd\n",
    "from datetime import datetime\n",
    "import matplotlib.pyplot as plt\n",
    "\n",
    "# import widgets to allow yellow-highlighted user-entered filename\n",
    "import ipywidgets as widgets\n",
    "from IPython.display import display, HTML"
   ]
  },
  {
   "cell_type": "code",
   "execution_count": 21,
   "id": "b1f07f16",
   "metadata": {},
   "outputs": [
    {
     "data": {
      "application/vnd.jupyter.widget-view+json": {
       "model_id": "bf5e445d10354a02a69aacd8bceced6b",
       "version_major": 2,
       "version_minor": 0
      },
      "text/plain": [
       "Text(value='2023_11_17_hourly', description='Filename (describe the dataset):', layout=Layout(width='50%'), st…"
      ]
     },
     "metadata": {},
     "output_type": "display_data"
    },
    {
     "data": {
      "text/html": [
       "\n",
       "<style>\n",
       "    .widget-text input {\n",
       "        background-color: yellow !important;\n",
       "    }\n",
       "</style>\n"
      ],
      "text/plain": [
       "<IPython.core.display.HTML object>"
      ]
     },
     "metadata": {},
     "output_type": "display_data"
    }
   ],
   "source": [
    "#all this fancy code to create a yellah-highlighted textbox, emphasizing that I should give the file a meaningful name\n",
    "filename_base = widgets.Text(\n",
    "    description='Filename (describe the dataset):',\n",
    "    value='2023_11_17_hourly',\n",
    "    style={'description_width': 'initial'},\n",
    "    layout=widgets.Layout(width='50%')\n",
    ")\n",
    "\n",
    "# Display the widget\n",
    "display(filename_base)\n",
    "\n",
    "# Use HTML to inject custom CSS for the text widget\n",
    "style = \"\"\"\n",
    "<style>\n",
    "    .widget-text input {\n",
    "        background-color: yellow !important;\n",
    "    }\n",
    "</style>\n",
    "\"\"\"\n",
    "\n",
    "display(HTML(style))"
   ]
  },
  {
   "cell_type": "code",
   "execution_count": 22,
   "id": "f30f401c",
   "metadata": {},
   "outputs": [
    {
     "data": {
      "text/plain": [
       "'2023_11_17_hourly_1700405110.csv'"
      ]
     },
     "execution_count": 22,
     "metadata": {},
     "output_type": "execute_result"
    }
   ],
   "source": [
    "#append a timestamp to prevent overwriting files\n",
    "now = datetime.now()\n",
    "current_timestamp=int(now.timestamp())\n",
    "current_timestamp\n",
    "file_suffix = f\"{filename_base.value}_{current_timestamp}.csv\"\n",
    "file_suffix"
   ]
  },
  {
   "cell_type": "markdown",
   "id": "2c1fad74",
   "metadata": {},
   "source": [
    "# import data"
   ]
  },
  {
   "cell_type": "code",
   "execution_count": 23,
   "id": "30447b3d",
   "metadata": {},
   "outputs": [],
   "source": [
    "df = pd.read_csv(\"../results/station-status-hourly-2023-11-17.csv\")"
   ]
  },
  {
   "cell_type": "code",
   "execution_count": 24,
   "id": "4412f84b",
   "metadata": {
    "scrolled": true
   },
   "outputs": [
    {
     "data": {
      "text/plain": [
       "Index(['num_bikes_disabled', 'num_scooters_available', 'num_docks_available',\n",
       "       'num_docks_disabled', 'is_installed', 'is_renting',\n",
       "       'num_bikes_available', 'num_scooters_unavailable',\n",
       "       'num_ebikes_available', 'station_id', 'is_returning', 'time_reported',\n",
       "       'n_classic', 'n_electric', 'n_scooters', 'time_retrieved', 'name',\n",
       "       'lat', 'lon', 'capacity', 'community', 'is_no_classic', 'is_no_docks',\n",
       "       'is_problem_station', 'is_public_rack'],\n",
       "      dtype='object')"
      ]
     },
     "execution_count": 24,
     "metadata": {},
     "output_type": "execute_result"
    }
   ],
   "source": [
    "df.keys()"
   ]
  },
  {
   "cell_type": "markdown",
   "id": "331fab5e",
   "metadata": {},
   "source": [
    "# calculate and prep for analysis"
   ]
  },
  {
   "cell_type": "code",
   "execution_count": 28,
   "id": "dfda542b",
   "metadata": {},
   "outputs": [
    {
     "data": {
      "text/html": [
       "<div>\n",
       "<style scoped>\n",
       "    .dataframe tbody tr th:only-of-type {\n",
       "        vertical-align: middle;\n",
       "    }\n",
       "\n",
       "    .dataframe tbody tr th {\n",
       "        vertical-align: top;\n",
       "    }\n",
       "\n",
       "    .dataframe thead th {\n",
       "        text-align: right;\n",
       "    }\n",
       "</style>\n",
       "<table border=\"1\" class=\"dataframe\">\n",
       "  <thead>\n",
       "    <tr style=\"text-align: right;\">\n",
       "      <th></th>\n",
       "      <th></th>\n",
       "      <th></th>\n",
       "      <th></th>\n",
       "      <th></th>\n",
       "      <th></th>\n",
       "      <th>no_classic_count</th>\n",
       "      <th>no_docks_count</th>\n",
       "      <th>problem_count</th>\n",
       "      <th>total_count</th>\n",
       "      <th>pct_no_classic</th>\n",
       "      <th>pct_no_docks</th>\n",
       "      <th>pct_problem</th>\n",
       "    </tr>\n",
       "    <tr>\n",
       "      <th>station_id</th>\n",
       "      <th>name</th>\n",
       "      <th>capacity</th>\n",
       "      <th>lat</th>\n",
       "      <th>lon</th>\n",
       "      <th>community</th>\n",
       "      <th></th>\n",
       "      <th></th>\n",
       "      <th></th>\n",
       "      <th></th>\n",
       "      <th></th>\n",
       "      <th></th>\n",
       "      <th></th>\n",
       "    </tr>\n",
       "  </thead>\n",
       "  <tbody>\n",
       "    <tr>\n",
       "      <th>03a1610c-3ba0-4b85-b512-bc26791cb7ee</th>\n",
       "      <th>Eberhart Ave &amp; 91st St</th>\n",
       "      <th>15</th>\n",
       "      <th>41.729285</th>\n",
       "      <th>-87.611032</th>\n",
       "      <th>CHATHAM</th>\n",
       "      <td>0</td>\n",
       "      <td>0</td>\n",
       "      <td>0</td>\n",
       "      <td>24</td>\n",
       "      <td>0.0</td>\n",
       "      <td>0.0</td>\n",
       "      <td>0.0</td>\n",
       "    </tr>\n",
       "    <tr>\n",
       "      <th>080ab938-2c1b-4fcf-a83d-74c5ae6ff305</th>\n",
       "      <th>Cottage Grove Ave &amp; 111th Pl</th>\n",
       "      <th>15</th>\n",
       "      <th>41.691710</th>\n",
       "      <th>-87.610002</th>\n",
       "      <th>PULLMAN</th>\n",
       "      <td>0</td>\n",
       "      <td>0</td>\n",
       "      <td>0</td>\n",
       "      <td>24</td>\n",
       "      <td>0.0</td>\n",
       "      <td>0.0</td>\n",
       "      <td>0.0</td>\n",
       "    </tr>\n",
       "    <tr>\n",
       "      <th>0eeb6baf-c653-4a1a-af17-99f686116b89</th>\n",
       "      <th>Lawndale Ave &amp; 111th St</th>\n",
       "      <th>15</th>\n",
       "      <th>41.691319</th>\n",
       "      <th>-87.712886</th>\n",
       "      <th>MOUNT GREENWOOD</th>\n",
       "      <td>0</td>\n",
       "      <td>0</td>\n",
       "      <td>0</td>\n",
       "      <td>24</td>\n",
       "      <td>0.0</td>\n",
       "      <td>0.0</td>\n",
       "      <td>0.0</td>\n",
       "    </tr>\n",
       "    <tr>\n",
       "      <th>0f9b826b-8885-4c25-96fd-9e2c2074c34e</th>\n",
       "      <th>Western Ave &amp; 104th St</th>\n",
       "      <th>15</th>\n",
       "      <th>41.704587</th>\n",
       "      <th>-87.681203</th>\n",
       "      <th>BEVERLY</th>\n",
       "      <td>0</td>\n",
       "      <td>0</td>\n",
       "      <td>0</td>\n",
       "      <td>24</td>\n",
       "      <td>0.0</td>\n",
       "      <td>0.0</td>\n",
       "      <td>0.0</td>\n",
       "    </tr>\n",
       "    <tr>\n",
       "      <th>10327d47-3c3a-433e-9e38-80638da64232</th>\n",
       "      <th>Indiana Ave &amp; 103rd St</th>\n",
       "      <th>15</th>\n",
       "      <th>41.707170</th>\n",
       "      <th>-87.618472</th>\n",
       "      <th>ROSELAND</th>\n",
       "      <td>0</td>\n",
       "      <td>0</td>\n",
       "      <td>0</td>\n",
       "      <td>24</td>\n",
       "      <td>0.0</td>\n",
       "      <td>0.0</td>\n",
       "      <td>0.0</td>\n",
       "    </tr>\n",
       "  </tbody>\n",
       "</table>\n",
       "</div>"
      ],
      "text/plain": [
       "                                                                                                                 no_classic_count  \\\n",
       "station_id                           name                         capacity lat       lon        community                           \n",
       "03a1610c-3ba0-4b85-b512-bc26791cb7ee Eberhart Ave & 91st St       15       41.729285 -87.611032 CHATHAM                         0   \n",
       "080ab938-2c1b-4fcf-a83d-74c5ae6ff305 Cottage Grove Ave & 111th Pl 15       41.691710 -87.610002 PULLMAN                         0   \n",
       "0eeb6baf-c653-4a1a-af17-99f686116b89 Lawndale Ave & 111th St      15       41.691319 -87.712886 MOUNT GREENWOOD                 0   \n",
       "0f9b826b-8885-4c25-96fd-9e2c2074c34e Western Ave & 104th St       15       41.704587 -87.681203 BEVERLY                         0   \n",
       "10327d47-3c3a-433e-9e38-80638da64232 Indiana Ave & 103rd St       15       41.707170 -87.618472 ROSELAND                        0   \n",
       "\n",
       "                                                                                                                 no_docks_count  \\\n",
       "station_id                           name                         capacity lat       lon        community                         \n",
       "03a1610c-3ba0-4b85-b512-bc26791cb7ee Eberhart Ave & 91st St       15       41.729285 -87.611032 CHATHAM                       0   \n",
       "080ab938-2c1b-4fcf-a83d-74c5ae6ff305 Cottage Grove Ave & 111th Pl 15       41.691710 -87.610002 PULLMAN                       0   \n",
       "0eeb6baf-c653-4a1a-af17-99f686116b89 Lawndale Ave & 111th St      15       41.691319 -87.712886 MOUNT GREENWOOD               0   \n",
       "0f9b826b-8885-4c25-96fd-9e2c2074c34e Western Ave & 104th St       15       41.704587 -87.681203 BEVERLY                       0   \n",
       "10327d47-3c3a-433e-9e38-80638da64232 Indiana Ave & 103rd St       15       41.707170 -87.618472 ROSELAND                      0   \n",
       "\n",
       "                                                                                                                 problem_count  \\\n",
       "station_id                           name                         capacity lat       lon        community                        \n",
       "03a1610c-3ba0-4b85-b512-bc26791cb7ee Eberhart Ave & 91st St       15       41.729285 -87.611032 CHATHAM                      0   \n",
       "080ab938-2c1b-4fcf-a83d-74c5ae6ff305 Cottage Grove Ave & 111th Pl 15       41.691710 -87.610002 PULLMAN                      0   \n",
       "0eeb6baf-c653-4a1a-af17-99f686116b89 Lawndale Ave & 111th St      15       41.691319 -87.712886 MOUNT GREENWOOD              0   \n",
       "0f9b826b-8885-4c25-96fd-9e2c2074c34e Western Ave & 104th St       15       41.704587 -87.681203 BEVERLY                      0   \n",
       "10327d47-3c3a-433e-9e38-80638da64232 Indiana Ave & 103rd St       15       41.707170 -87.618472 ROSELAND                     0   \n",
       "\n",
       "                                                                                                                 total_count  \\\n",
       "station_id                           name                         capacity lat       lon        community                      \n",
       "03a1610c-3ba0-4b85-b512-bc26791cb7ee Eberhart Ave & 91st St       15       41.729285 -87.611032 CHATHAM                   24   \n",
       "080ab938-2c1b-4fcf-a83d-74c5ae6ff305 Cottage Grove Ave & 111th Pl 15       41.691710 -87.610002 PULLMAN                   24   \n",
       "0eeb6baf-c653-4a1a-af17-99f686116b89 Lawndale Ave & 111th St      15       41.691319 -87.712886 MOUNT GREENWOOD           24   \n",
       "0f9b826b-8885-4c25-96fd-9e2c2074c34e Western Ave & 104th St       15       41.704587 -87.681203 BEVERLY                   24   \n",
       "10327d47-3c3a-433e-9e38-80638da64232 Indiana Ave & 103rd St       15       41.707170 -87.618472 ROSELAND                  24   \n",
       "\n",
       "                                                                                                                 pct_no_classic  \\\n",
       "station_id                           name                         capacity lat       lon        community                         \n",
       "03a1610c-3ba0-4b85-b512-bc26791cb7ee Eberhart Ave & 91st St       15       41.729285 -87.611032 CHATHAM                     0.0   \n",
       "080ab938-2c1b-4fcf-a83d-74c5ae6ff305 Cottage Grove Ave & 111th Pl 15       41.691710 -87.610002 PULLMAN                     0.0   \n",
       "0eeb6baf-c653-4a1a-af17-99f686116b89 Lawndale Ave & 111th St      15       41.691319 -87.712886 MOUNT GREENWOOD             0.0   \n",
       "0f9b826b-8885-4c25-96fd-9e2c2074c34e Western Ave & 104th St       15       41.704587 -87.681203 BEVERLY                     0.0   \n",
       "10327d47-3c3a-433e-9e38-80638da64232 Indiana Ave & 103rd St       15       41.707170 -87.618472 ROSELAND                    0.0   \n",
       "\n",
       "                                                                                                                 pct_no_docks  \\\n",
       "station_id                           name                         capacity lat       lon        community                       \n",
       "03a1610c-3ba0-4b85-b512-bc26791cb7ee Eberhart Ave & 91st St       15       41.729285 -87.611032 CHATHAM                   0.0   \n",
       "080ab938-2c1b-4fcf-a83d-74c5ae6ff305 Cottage Grove Ave & 111th Pl 15       41.691710 -87.610002 PULLMAN                   0.0   \n",
       "0eeb6baf-c653-4a1a-af17-99f686116b89 Lawndale Ave & 111th St      15       41.691319 -87.712886 MOUNT GREENWOOD           0.0   \n",
       "0f9b826b-8885-4c25-96fd-9e2c2074c34e Western Ave & 104th St       15       41.704587 -87.681203 BEVERLY                   0.0   \n",
       "10327d47-3c3a-433e-9e38-80638da64232 Indiana Ave & 103rd St       15       41.707170 -87.618472 ROSELAND                  0.0   \n",
       "\n",
       "                                                                                                                 pct_problem  \n",
       "station_id                           name                         capacity lat       lon        community                     \n",
       "03a1610c-3ba0-4b85-b512-bc26791cb7ee Eberhart Ave & 91st St       15       41.729285 -87.611032 CHATHAM                  0.0  \n",
       "080ab938-2c1b-4fcf-a83d-74c5ae6ff305 Cottage Grove Ave & 111th Pl 15       41.691710 -87.610002 PULLMAN                  0.0  \n",
       "0eeb6baf-c653-4a1a-af17-99f686116b89 Lawndale Ave & 111th St      15       41.691319 -87.712886 MOUNT GREENWOOD          0.0  \n",
       "0f9b826b-8885-4c25-96fd-9e2c2074c34e Western Ave & 104th St       15       41.704587 -87.681203 BEVERLY                  0.0  \n",
       "10327d47-3c3a-433e-9e38-80638da64232 Indiana Ave & 103rd St       15       41.707170 -87.618472 ROSELAND                 0.0  "
      ]
     },
     "execution_count": 28,
     "metadata": {},
     "output_type": "execute_result"
    }
   ],
   "source": [
    "df_stations = result = df.groupby(['station_id','name','capacity','lat','lon','community']).agg(\n",
    "    no_classic_count=('is_no_classic', 'sum'),       # Count of is_no_class=True\n",
    "    no_docks_count=('is_no_docks', 'sum'),       # Count of is_no_docks=True\n",
    "    problem_count=('is_problem_station', 'sum'),       # either no docks or no classic bikes\n",
    "    total_count=('station_id', 'size')           # Total count of records per station_id\n",
    ")\n",
    "df_stations[\"pct_no_classic\"]= 100*df_stations[\"no_classic_count\"]/df_stations[\"total_count\"]\n",
    "df_stations[\"pct_no_docks\"]= 100*df_stations[\"no_docks_count\"]/df_stations[\"total_count\"]\n",
    "df_stations[\"pct_problem\"]= 100*df_stations[\"problem_count\"]/df_stations[\"total_count\"]\n",
    "df_stations.head()"
   ]
  },
  {
   "cell_type": "code",
   "execution_count": 29,
   "id": "315ef81e",
   "metadata": {},
   "outputs": [],
   "source": [
    "df_stations = df_stations.reset_index()"
   ]
  },
  {
   "cell_type": "code",
   "execution_count": 30,
   "id": "5b50f50f",
   "metadata": {},
   "outputs": [
    {
     "data": {
      "text/plain": [
       "Index(['station_id', 'name', 'capacity', 'lat', 'lon', 'community',\n",
       "       'no_classic_count', 'no_docks_count', 'problem_count', 'total_count',\n",
       "       'pct_no_classic', 'pct_no_docks', 'pct_problem'],\n",
       "      dtype='object')"
      ]
     },
     "execution_count": 30,
     "metadata": {},
     "output_type": "execute_result"
    }
   ],
   "source": [
    "df_stations.columns"
   ]
  },
  {
   "cell_type": "markdown",
   "id": "1e6d6bbe",
   "metadata": {},
   "source": [
    "# assign binning for values\n",
    "for this analysis, the categories will be colored red-orange-yellow-green-blue based on the bins<br>\n",
    "focusing on percent with no classic bikes"
   ]
  },
  {
   "cell_type": "code",
   "execution_count": 64,
   "id": "0c2baa54",
   "metadata": {},
   "outputs": [],
   "source": [
    "# Define bin edges and labels for the bins\n",
    "bin_edges = [0, 1, 15, 30, 99, 100]\n",
    "bin_labels = ['0%', '1-14%', '15-29%', '30-99%', '100%']"
   ]
  },
  {
   "cell_type": "code",
   "execution_count": 65,
   "id": "0b74094a",
   "metadata": {},
   "outputs": [],
   "source": [
    "# Use pd.cut to bin the data\n",
    "df_stations['bin_no_classic'] = pd.cut(df_stations['pct_no_classic'], bins=bin_edges, labels=bin_labels, include_lowest=True)\n",
    "df_stations['bin_no_docks'] = pd.cut(df_stations['pct_no_docks'], bins=bin_edges, labels=bin_labels, include_lowest=True)\n",
    "df_stations['bin_problem'] = pd.cut(df_stations['pct_problem'], bins=bin_edges, labels=bin_labels, include_lowest=True)"
   ]
  },
  {
   "cell_type": "markdown",
   "id": "1d6d1e23",
   "metadata": {},
   "source": [
    "### filtered dataset for Logan and Humboldt analysis"
   ]
  },
  {
   "cell_type": "code",
   "execution_count": 66,
   "id": "7a2c03d6",
   "metadata": {},
   "outputs": [
    {
     "data": {
      "text/plain": [
       "37"
      ]
     },
     "execution_count": 66,
     "metadata": {},
     "output_type": "execute_result"
    }
   ],
   "source": [
    "df_stations_logan_humboldt= df_stations[(\n",
    "    df_stations['community']=='LOGAN SQUARE') | (df_stations['community'] == 'HUMBOLDT PARK')]\n",
    "len(df_stations_logan_humboldt)"
   ]
  },
  {
   "cell_type": "code",
   "execution_count": 67,
   "id": "98bfd441",
   "metadata": {},
   "outputs": [
    {
     "data": {
      "text/plain": [
       "11"
      ]
     },
     "execution_count": 67,
     "metadata": {},
     "output_type": "execute_result"
    }
   ],
   "source": [
    "df_stations_humboldt= df_stations[(\n",
    "    df_stations['community'] == 'HUMBOLDT PARK')]\n",
    "len(df_stations_humboldt)"
   ]
  },
  {
   "cell_type": "markdown",
   "id": "9babe547",
   "metadata": {},
   "source": [
    "### Preview Data Distribution"
   ]
  },
  {
   "cell_type": "code",
   "execution_count": 68,
   "id": "c221d286",
   "metadata": {},
   "outputs": [
    {
     "data": {
      "image/png": "[encoded data removed]",
      "text/plain": [
       "<Figure size 720x432 with 1 Axes>"
      ]
     },
     "metadata": {
      "needs_background": "light"
     },
     "output_type": "display_data"
    }
   ],
   "source": [
    "# Now plot the binned data\n",
    "plt.figure(figsize=(10, 6))\n",
    "df_stations['bin_no_classic'].value_counts().reindex(bin_labels).plot(kind='bar')\n",
    "plt.title('Divvy Stations- Likelihood of No Classic Bikes')\n",
    "plt.xlabel('Likelihood of No Classic Bikes')\n",
    "plt.ylabel('# of Stations')\n",
    "plt.xticks(rotation=45)  # Rotate labels to improve readability\n",
    "plt.show()"
   ]
  },
  {
   "cell_type": "code",
   "execution_count": 69,
   "id": "29f42567",
   "metadata": {},
   "outputs": [
    {
     "data": {
      "image/png": "[encoded data removed]",
      "text/plain": [
       "<Figure size 720x432 with 1 Axes>"
      ]
     },
     "metadata": {
      "needs_background": "light"
     },
     "output_type": "display_data"
    }
   ],
   "source": [
    "# Now plot the binned data\n",
    "plt.figure(figsize=(10, 6))\n",
    "df_stations['bin_no_docks'].value_counts().reindex(bin_labels).plot(kind='bar',color=\"red\")\n",
    "plt.title('Divvy Stations- Likelihood of No Available Docks')\n",
    "plt.xlabel('Likelihood of No Available Docks')\n",
    "plt.ylabel('# of Stations')\n",
    "plt.xticks(rotation=45)  # Rotate labels to improve readability\n",
    "plt.show()"
   ]
  },
  {
   "cell_type": "code",
   "execution_count": 70,
   "id": "fc172d3b",
   "metadata": {},
   "outputs": [
    {
     "data": {
      "image/png": "[encoded data removed]",
      "text/plain": [
       "<Figure size 720x432 with 1 Axes>"
      ]
     },
     "metadata": {
      "needs_background": "light"
     },
     "output_type": "display_data"
    }
   ],
   "source": [
    "# Now plot the binned data\n",
    "plt.figure(figsize=(10, 6))\n",
    "df_stations['bin_problem'].value_counts().reindex(bin_labels).plot(kind='bar',color=\"purple\")\n",
    "plt.title('Problematic Divvy Stations- Likelihood of Either No Classic Bikes or No Available Docks')\n",
    "plt.xlabel('Likelihood of No Classic Bikes')\n",
    "plt.ylabel('# of Stations')\n",
    "plt.xticks(rotation=45)  # Rotate labels to improve readability\n",
    "plt.show()"
   ]
  },
  {
   "cell_type": "markdown",
   "id": "1532f3d2",
   "metadata": {},
   "source": [
    "# Export for Flourish"
   ]
  },
  {
   "cell_type": "code",
   "execution_count": 71,
   "id": "ca40e8aa",
   "metadata": {},
   "outputs": [],
   "source": [
    "#citywide data\n",
    "df_stations.to_csv(f\"../results/stations_summary_{file_suffix}\")\n",
    "\n",
    "#humboldt & logan\n",
    "df_stations_logan_humboldt.to_csv(f\"../results/stations_summary_lsq_humboldt_{file_suffix}\")\n",
    "\n",
    "#humboldt\n",
    "df_stations_humboldt.to_csv(f\"../results/stations_summary_humboldt_{file_suffix}\")"
   ]
  },
  {
   "cell_type": "code",
   "execution_count": 129,
   "id": "3a36b2c0",
   "metadata": {},
   "outputs": [],
   "source": [
    "# cc to my desktop\n",
    "# the 'r' is to escape the backslash for Unix\n",
    "#df_stations.to_csv(fr\"C:\\Users\\relia\\OneDrive\\Desktop\\stations_summary_{file_suffix}\")"
   ]
  },
  {
   "cell_type": "code",
   "execution_count": null,
   "id": "14f80b87",
   "metadata": {},
   "outputs": [],
   "source": []
  }
 ],
 "metadata": {
  "kernelspec": {
   "display_name": "Python 3 (ipykernel)",
   "language": "python",
   "name": "python3"
  },
  "language_info": {
   "codemirror_mode": {
    "name": "ipython",
    "version": 3
   },
   "file_extension": ".py",
   "mimetype": "text/x-python",
   "name": "python",
   "nbconvert_exporter": "python",
   "pygments_lexer": "ipython3",
   "version": "3.10.12"
  }
 },
 "nbformat": 4,
 "nbformat_minor": 5
}
