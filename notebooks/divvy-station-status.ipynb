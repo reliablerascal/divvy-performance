{
 "cells": [
  {
   "cell_type": "markdown",
   "id": "3284fc0e",
   "metadata": {},
   "source": [
    "<h3>Next Steps</h3>\n",
    "<ul>\n",
    "    <li>figure out why num_ebikes_available does not always match vehicle_type_id = 2 (sometimes greater, sometimes less)\n",
    "        <li>why are there 1664 stations (should be less)\n",
    "            <li>what do is_renting and is_returning mean?\n",
    "</ul>"
   ]
  },
  {
   "cell_type": "markdown",
   "id": "507e8353",
   "metadata": {},
   "source": [
    "<h3>Documentation</h3>\n",
    "Live Station Data from Divvy Site\n",
    "https://gbfs.divvybikes.com/gbfs/2.3/gbfs.json"
   ]
  },
  {
   "cell_type": "markdown",
   "id": "ecabad01",
   "metadata": {},
   "source": [
    "### Findings\n",
    "837 have \"public rack\" in name, 828 don't"
   ]
  },
  {
   "cell_type": "markdown",
   "id": "91384245",
   "metadata": {},
   "source": [
    "# import libraries"
   ]
  },
  {
   "cell_type": "code",
   "execution_count": 1,
   "id": "73356b8e",
   "metadata": {},
   "outputs": [],
   "source": [
    "import pandas as pd\n",
    "import requests"
   ]
  },
  {
   "cell_type": "markdown",
   "id": "2c1fad74",
   "metadata": {},
   "source": [
    "# review vehicle types"
   ]
  },
  {
   "cell_type": "code",
   "execution_count": 112,
   "id": "30447b3d",
   "metadata": {},
   "outputs": [
    {
     "data": {
      "text/plain": [
       "<Response [200]>"
      ]
     },
     "execution_count": 112,
     "metadata": {},
     "output_type": "execute_result"
    }
   ],
   "source": [
    "url = f\"https://gbfs.lyft.com/gbfs/2.3/chi/en/vehicle_types.json?\"\n",
    "\n",
    "#run the query\n",
    "response = requests.get(url)\n",
    "data = response.json()\n",
    "response"
   ]
  },
  {
   "cell_type": "code",
   "execution_count": 114,
   "id": "d4e9fa53",
   "metadata": {},
   "outputs": [
    {
     "data": {
      "text/plain": [
       "dict_keys(['vehicle_types'])"
      ]
     },
     "execution_count": 114,
     "metadata": {},
     "output_type": "execute_result"
    }
   ],
   "source": [
    "#navigate through dictionaries to find station data\n",
    "#data.keys()\n",
    "data['data'].keys()"
   ]
  },
  {
   "cell_type": "code",
   "execution_count": 117,
   "id": "0ebe1863",
   "metadata": {
    "scrolled": true
   },
   "outputs": [
    {
     "data": {
      "text/plain": [
       "[{'vehicle_type_id': '1',\n",
       "  'form_factor': 'bicycle',\n",
       "  'propulsion_type': 'human'},\n",
       " {'max_range_meters': 54717.56,\n",
       "  'vehicle_type_id': '2',\n",
       "  'form_factor': 'bicycle',\n",
       "  'propulsion_type': 'electric_assist'},\n",
       " {'max_range_meters': 70810.95999999999,\n",
       "  'vehicle_type_id': '3',\n",
       "  'form_factor': 'scooter',\n",
       "  'propulsion_type': 'electric'}]"
      ]
     },
     "execution_count": 117,
     "metadata": {},
     "output_type": "execute_result"
    }
   ],
   "source": [
    "#look at all data\n",
    "data['data']['vehicle_types']"
   ]
  },
  {
   "cell_type": "markdown",
   "id": "3fc958c4",
   "metadata": {},
   "source": [
    "# import station info"
   ]
  },
  {
   "cell_type": "code",
   "execution_count": 131,
   "id": "78de6584",
   "metadata": {},
   "outputs": [
    {
     "data": {
      "text/plain": [
       "<Response [200]>"
      ]
     },
     "execution_count": 131,
     "metadata": {},
     "output_type": "execute_result"
    }
   ],
   "source": [
    "url = f\"https://gbfs.lyft.com/gbfs/2.3/chi/en/station_information.json?\"\n",
    "\n",
    "#request data\n",
    "response = requests.get(url)\n",
    "data = response.json()\n",
    "response"
   ]
  },
  {
   "cell_type": "code",
   "execution_count": 132,
   "id": "0e922218",
   "metadata": {},
   "outputs": [
    {
     "data": {
      "text/plain": [
       "dict_keys(['stations'])"
      ]
     },
     "execution_count": 132,
     "metadata": {},
     "output_type": "execute_result"
    }
   ],
   "source": [
    "#navigate through dictionaries to find station data\n",
    "#data.keys()\n",
    "data['data'].keys()"
   ]
  },
  {
   "cell_type": "code",
   "execution_count": 135,
   "id": "feff0655",
   "metadata": {
    "scrolled": false
   },
   "outputs": [
    {
     "data": {
      "text/plain": [
       "{'lon': -87.7011951301,\n",
       " 'name': 'Richmond St & Diversey Ave',\n",
       " 'station_id': 'a3b00b3a-a135-11e9-9cda-0a87ae2ba916',\n",
       " 'lat': 41.93190196886,\n",
       " 'rental_uris': {'android': 'https://chi.lft.to/lastmile_qr_scan',\n",
       "  'ios': 'https://chi.lft.to/lastmile_qr_scan'},\n",
       " 'short_name': '15645',\n",
       " 'capacity': 15}"
      ]
     },
     "execution_count": 135,
     "metadata": {},
     "output_type": "execute_result"
    }
   ],
   "source": [
    "#look at the first station\n",
    "data['data']['stations'][0]"
   ]
  },
  {
   "cell_type": "code",
   "execution_count": 140,
   "id": "3653acc2",
   "metadata": {},
   "outputs": [
    {
     "data": {
      "text/html": [
       "<div>\n",
       "<style scoped>\n",
       "    .dataframe tbody tr th:only-of-type {\n",
       "        vertical-align: middle;\n",
       "    }\n",
       "\n",
       "    .dataframe tbody tr th {\n",
       "        vertical-align: top;\n",
       "    }\n",
       "\n",
       "    .dataframe thead th {\n",
       "        text-align: right;\n",
       "    }\n",
       "</style>\n",
       "<table border=\"1\" class=\"dataframe\">\n",
       "  <thead>\n",
       "    <tr style=\"text-align: right;\">\n",
       "      <th></th>\n",
       "      <th>station_id</th>\n",
       "      <th>name</th>\n",
       "      <th>lat</th>\n",
       "      <th>lon</th>\n",
       "    </tr>\n",
       "  </thead>\n",
       "  <tbody>\n",
       "    <tr>\n",
       "      <th>0</th>\n",
       "      <td>a3b00b3a-a135-11e9-9cda-0a87ae2ba916</td>\n",
       "      <td>Richmond St &amp; Diversey Ave</td>\n",
       "      <td>41.931902</td>\n",
       "      <td>-87.701195</td>\n",
       "    </tr>\n",
       "    <tr>\n",
       "      <th>1</th>\n",
       "      <td>a60781db-2bec-4a15-a4a2-363297aefcec</td>\n",
       "      <td>Halsted St &amp; 73rd St</td>\n",
       "      <td>41.761605</td>\n",
       "      <td>-87.644161</td>\n",
       "    </tr>\n",
       "    <tr>\n",
       "      <th>2</th>\n",
       "      <td>a3aae35a-a135-11e9-9cda-0a87ae2ba916</td>\n",
       "      <td>Calumet Ave &amp; 35th St</td>\n",
       "      <td>41.831379</td>\n",
       "      <td>-87.618034</td>\n",
       "    </tr>\n",
       "    <tr>\n",
       "      <th>3</th>\n",
       "      <td>a3b23cb8-a135-11e9-9cda-0a87ae2ba916</td>\n",
       "      <td>Racine Ave &amp; 65th St</td>\n",
       "      <td>41.775393</td>\n",
       "      <td>-87.654308</td>\n",
       "    </tr>\n",
       "    <tr>\n",
       "      <th>4</th>\n",
       "      <td>a3a79adb-a135-11e9-9cda-0a87ae2ba916</td>\n",
       "      <td>Green St &amp; Madison St</td>\n",
       "      <td>41.881859</td>\n",
       "      <td>-87.649264</td>\n",
       "    </tr>\n",
       "  </tbody>\n",
       "</table>\n",
       "</div>"
      ],
      "text/plain": [
       "                             station_id                        name  \\\n",
       "0  a3b00b3a-a135-11e9-9cda-0a87ae2ba916  Richmond St & Diversey Ave   \n",
       "1  a60781db-2bec-4a15-a4a2-363297aefcec        Halsted St & 73rd St   \n",
       "2  a3aae35a-a135-11e9-9cda-0a87ae2ba916       Calumet Ave & 35th St   \n",
       "3  a3b23cb8-a135-11e9-9cda-0a87ae2ba916        Racine Ave & 65th St   \n",
       "4  a3a79adb-a135-11e9-9cda-0a87ae2ba916       Green St & Madison St   \n",
       "\n",
       "         lat        lon  \n",
       "0  41.931902 -87.701195  \n",
       "1  41.761605 -87.644161  \n",
       "2  41.831379 -87.618034  \n",
       "3  41.775393 -87.654308  \n",
       "4  41.881859 -87.649264  "
      ]
     },
     "execution_count": 140,
     "metadata": {},
     "output_type": "execute_result"
    }
   ],
   "source": [
    "df_station_info = pd.DataFrame(data['data']['stations'], columns=['station_id','name','lat','lon'])\n",
    "df_station_info.head()"
   ]
  },
  {
   "cell_type": "markdown",
   "id": "209d84bd",
   "metadata": {},
   "source": [
    "# Import station status"
   ]
  },
  {
   "cell_type": "code",
   "execution_count": 11,
   "id": "0de549fd",
   "metadata": {},
   "outputs": [
    {
     "data": {
      "text/plain": [
       "'https://gbfs.lyft.com/gbfs/2.3/chi/en/station_status.json?'"
      ]
     },
     "execution_count": 11,
     "metadata": {},
     "output_type": "execute_result"
    }
   ],
   "source": [
    "# select = \"date_extract_y(date) as Year,date_extract_m(date) as Month,count(distinct date) as nDays,sum(rides) as nRides\"\n",
    "# where = \"year between 2019 and 2022\"\n",
    "# group_by = \"Year, Month\"\n",
    "# limit = 9999\n",
    "\n",
    "# url = f\"https://data.cityofchicago.org/resource/5neh-572f.json?$SELECT={select}&$WHERE={where}&$GROUP={group_by}&$LIMIT={limit}\"\n",
    "url = f\"https://gbfs.lyft.com/gbfs/2.3/chi/en/station_status.json?\"\n",
    "url"
   ]
  },
  {
   "cell_type": "code",
   "execution_count": 104,
   "id": "35f5f153",
   "metadata": {},
   "outputs": [
    {
     "data": {
      "text/plain": [
       "<Response [200]>"
      ]
     },
     "execution_count": 104,
     "metadata": {},
     "output_type": "execute_result"
    }
   ],
   "source": [
    "#run the query\n",
    "response = requests.get(url)\n",
    "data = response.json()\n",
    "response"
   ]
  },
  {
   "cell_type": "code",
   "execution_count": 105,
   "id": "ee2e96cb",
   "metadata": {},
   "outputs": [
    {
     "data": {
      "text/plain": [
       "dict_keys(['stations'])"
      ]
     },
     "execution_count": 105,
     "metadata": {},
     "output_type": "execute_result"
    }
   ],
   "source": [
    "#navigate through dictionaries to find station data\n",
    "# data.keys()\n",
    "data['data'].keys()"
   ]
  },
  {
   "cell_type": "code",
   "execution_count": 106,
   "id": "43fc384a",
   "metadata": {},
   "outputs": [
    {
     "data": {
      "text/plain": [
       "{'num_bikes_available': 5,\n",
       " 'num_scooters_unavailable': 2,\n",
       " 'vehicle_types_available': [{'vehicle_type_id': '1', 'count': 5},\n",
       "  {'vehicle_type_id': '2', 'count': 0},\n",
       "  {'vehicle_type_id': '3', 'count': 0}],\n",
       " 'station_id': 'a3a5700b-a135-11e9-9cda-0a87ae2ba916',\n",
       " 'is_renting': 1,\n",
       " 'num_bikes_disabled': 3,\n",
       " 'num_ebikes_available': 0,\n",
       " 'is_returning': 1,\n",
       " 'num_docks_disabled': 0,\n",
       " 'vehicle_docks_available': [{'count': 17,\n",
       "   'vehicle_type_ids': ['1', '2', '3']}],\n",
       " 'num_scooters_available': 0,\n",
       " 'num_docks_available': 17,\n",
       " 'is_installed': 1,\n",
       " 'last_reported': 1700102268}"
      ]
     },
     "execution_count": 106,
     "metadata": {},
     "output_type": "execute_result"
    }
   ],
   "source": [
    "#look at the first station\n",
    "data_stations = data['data']['stations']\n",
    "data_stations[0]"
   ]
  },
  {
   "cell_type": "code",
   "execution_count": 145,
   "id": "0e8ca9cc",
   "metadata": {},
   "outputs": [
    {
     "data": {
      "text/html": [
       "<div>\n",
       "<style scoped>\n",
       "    .dataframe tbody tr th:only-of-type {\n",
       "        vertical-align: middle;\n",
       "    }\n",
       "\n",
       "    .dataframe tbody tr th {\n",
       "        vertical-align: top;\n",
       "    }\n",
       "\n",
       "    .dataframe thead th {\n",
       "        text-align: right;\n",
       "    }\n",
       "</style>\n",
       "<table border=\"1\" class=\"dataframe\">\n",
       "  <thead>\n",
       "    <tr style=\"text-align: right;\">\n",
       "      <th></th>\n",
       "      <th>station_id</th>\n",
       "      <th>nGoodBikes</th>\n",
       "      <th>nBrokenBikes</th>\n",
       "      <th>nDocksOpen</th>\n",
       "      <th>num_ebikes_available</th>\n",
       "      <th>nClassic</th>\n",
       "      <th>nElectric</th>\n",
       "      <th>nAllBikes</th>\n",
       "      <th>hasNoBikes</th>\n",
       "      <th>hasNoDocks</th>\n",
       "    </tr>\n",
       "  </thead>\n",
       "  <tbody>\n",
       "    <tr>\n",
       "      <th>0</th>\n",
       "      <td>a3a5700b-a135-11e9-9cda-0a87ae2ba916</td>\n",
       "      <td>5</td>\n",
       "      <td>3</td>\n",
       "      <td>17</td>\n",
       "      <td>0</td>\n",
       "      <td>5</td>\n",
       "      <td>0</td>\n",
       "      <td>8</td>\n",
       "      <td>False</td>\n",
       "      <td>False</td>\n",
       "    </tr>\n",
       "    <tr>\n",
       "      <th>1</th>\n",
       "      <td>1867616662773391950</td>\n",
       "      <td>8</td>\n",
       "      <td>1</td>\n",
       "      <td>6</td>\n",
       "      <td>7</td>\n",
       "      <td>1</td>\n",
       "      <td>7</td>\n",
       "      <td>9</td>\n",
       "      <td>False</td>\n",
       "      <td>False</td>\n",
       "    </tr>\n",
       "    <tr>\n",
       "      <th>2</th>\n",
       "      <td>a3a547b8-a135-11e9-9cda-0a87ae2ba916</td>\n",
       "      <td>5</td>\n",
       "      <td>0</td>\n",
       "      <td>10</td>\n",
       "      <td>1</td>\n",
       "      <td>4</td>\n",
       "      <td>1</td>\n",
       "      <td>5</td>\n",
       "      <td>False</td>\n",
       "      <td>False</td>\n",
       "    </tr>\n",
       "    <tr>\n",
       "      <th>3</th>\n",
       "      <td>a3a96aca-a135-11e9-9cda-0a87ae2ba916</td>\n",
       "      <td>8</td>\n",
       "      <td>0</td>\n",
       "      <td>1</td>\n",
       "      <td>6</td>\n",
       "      <td>2</td>\n",
       "      <td>6</td>\n",
       "      <td>8</td>\n",
       "      <td>False</td>\n",
       "      <td>False</td>\n",
       "    </tr>\n",
       "    <tr>\n",
       "      <th>4</th>\n",
       "      <td>a3a41004-a135-11e9-9cda-0a87ae2ba916</td>\n",
       "      <td>6</td>\n",
       "      <td>0</td>\n",
       "      <td>9</td>\n",
       "      <td>1</td>\n",
       "      <td>5</td>\n",
       "      <td>1</td>\n",
       "      <td>6</td>\n",
       "      <td>False</td>\n",
       "      <td>False</td>\n",
       "    </tr>\n",
       "  </tbody>\n",
       "</table>\n",
       "</div>"
      ],
      "text/plain": [
       "                             station_id  nGoodBikes  nBrokenBikes  nDocksOpen  \\\n",
       "0  a3a5700b-a135-11e9-9cda-0a87ae2ba916           5             3          17   \n",
       "1                   1867616662773391950           8             1           6   \n",
       "2  a3a547b8-a135-11e9-9cda-0a87ae2ba916           5             0          10   \n",
       "3  a3a96aca-a135-11e9-9cda-0a87ae2ba916           8             0           1   \n",
       "4  a3a41004-a135-11e9-9cda-0a87ae2ba916           6             0           9   \n",
       "\n",
       "   num_ebikes_available  nClassic  nElectric  nAllBikes  hasNoBikes  \\\n",
       "0                     0         5          0          8       False   \n",
       "1                     7         1          7          9       False   \n",
       "2                     1         4          1          5       False   \n",
       "3                     6         2          6          8       False   \n",
       "4                     1         5          1          6       False   \n",
       "\n",
       "   hasNoDocks  \n",
       "0       False  \n",
       "1       False  \n",
       "2       False  \n",
       "3       False  \n",
       "4       False  "
      ]
     },
     "execution_count": 145,
     "metadata": {},
     "output_type": "execute_result"
    }
   ],
   "source": [
    "#read into dataframe and rename columns\n",
    "df_stations= pd.DataFrame(data_stations, columns=\n",
    "        ['station_id','num_bikes_available','vehicle_types_available','num_bikes_disabled','num_docks_available','num_ebikes_available'])\n",
    "df_stations.rename(columns={\n",
    "    'num_bikes_available':'nGoodBikes',\n",
    "    'num_bikes_disabled':'nBrokenBikes',\n",
    "    'num_docks_available':'nDocksOpen'\n",
    "}, inplace=True)\n",
    "\n",
    "#add calculated columns\n",
    "df_stations['nClassic'] = df_stations['vehicle_types_available'].apply(\n",
    "    lambda x: next((item['count'] for item in x if item['vehicle_type_id'] == '1'), 0))\n",
    "df_stations['nElectric'] = df_stations['vehicle_types_available'].apply(\n",
    "    lambda x: next((item['count'] for item in x if item['vehicle_type_id'] == '2'), 0))\n",
    "# df_stations['nScooters'] = df_stations['vehicle_types_available'].apply(\n",
    "#     lambda x: next((item['count'] for item in x if item['vehicle_type_id'] == '3'), 0))\n",
    "df_stations['nAllBikes']=df_stations['nGoodBikes']+df_stations['nBrokenBikes']\n",
    "df_stations.drop('vehicle_types_available',axis=1, inplace=True)\n",
    "df_stations['hasNoBikes']=(df_stations['nGoodBikes']==0)\n",
    "df_stations['hasNoDocks']=(df_stations['nDocksOpen']==0)\n",
    "df_stations.head()"
   ]
  },
  {
   "cell_type": "markdown",
   "id": "9ed52e33",
   "metadata": {},
   "source": [
    "# Merge Station Info"
   ]
  },
  {
   "cell_type": "code",
   "execution_count": 146,
   "id": "6c11bf8e",
   "metadata": {},
   "outputs": [
    {
     "data": {
      "text/html": [
       "<div>\n",
       "<style scoped>\n",
       "    .dataframe tbody tr th:only-of-type {\n",
       "        vertical-align: middle;\n",
       "    }\n",
       "\n",
       "    .dataframe tbody tr th {\n",
       "        vertical-align: top;\n",
       "    }\n",
       "\n",
       "    .dataframe thead th {\n",
       "        text-align: right;\n",
       "    }\n",
       "</style>\n",
       "<table border=\"1\" class=\"dataframe\">\n",
       "  <thead>\n",
       "    <tr style=\"text-align: right;\">\n",
       "      <th></th>\n",
       "      <th>station_id</th>\n",
       "      <th>nGoodBikes</th>\n",
       "      <th>nBrokenBikes</th>\n",
       "      <th>nDocksOpen</th>\n",
       "      <th>num_ebikes_available</th>\n",
       "      <th>nClassic</th>\n",
       "      <th>nElectric</th>\n",
       "      <th>nAllBikes</th>\n",
       "      <th>hasNoBikes</th>\n",
       "      <th>hasNoDocks</th>\n",
       "      <th>name</th>\n",
       "      <th>lat</th>\n",
       "      <th>lon</th>\n",
       "    </tr>\n",
       "  </thead>\n",
       "  <tbody>\n",
       "    <tr>\n",
       "      <th>0</th>\n",
       "      <td>a3a5700b-a135-11e9-9cda-0a87ae2ba916</td>\n",
       "      <td>5</td>\n",
       "      <td>3</td>\n",
       "      <td>17</td>\n",
       "      <td>0</td>\n",
       "      <td>5</td>\n",
       "      <td>0</td>\n",
       "      <td>8</td>\n",
       "      <td>False</td>\n",
       "      <td>False</td>\n",
       "      <td>Dearborn St &amp; Erie St</td>\n",
       "      <td>41.893992</td>\n",
       "      <td>-87.629318</td>\n",
       "    </tr>\n",
       "    <tr>\n",
       "      <th>1</th>\n",
       "      <td>1867616662773391950</td>\n",
       "      <td>8</td>\n",
       "      <td>1</td>\n",
       "      <td>6</td>\n",
       "      <td>7</td>\n",
       "      <td>1</td>\n",
       "      <td>7</td>\n",
       "      <td>9</td>\n",
       "      <td>False</td>\n",
       "      <td>False</td>\n",
       "      <td>Karlov Ave &amp; Armitage Ave</td>\n",
       "      <td>41.917480</td>\n",
       "      <td>-87.728952</td>\n",
       "    </tr>\n",
       "    <tr>\n",
       "      <th>2</th>\n",
       "      <td>a3a547b8-a135-11e9-9cda-0a87ae2ba916</td>\n",
       "      <td>5</td>\n",
       "      <td>0</td>\n",
       "      <td>10</td>\n",
       "      <td>1</td>\n",
       "      <td>4</td>\n",
       "      <td>1</td>\n",
       "      <td>5</td>\n",
       "      <td>False</td>\n",
       "      <td>False</td>\n",
       "      <td>63rd St Beach</td>\n",
       "      <td>41.780911</td>\n",
       "      <td>-87.576324</td>\n",
       "    </tr>\n",
       "    <tr>\n",
       "      <th>3</th>\n",
       "      <td>a3a96aca-a135-11e9-9cda-0a87ae2ba916</td>\n",
       "      <td>8</td>\n",
       "      <td>0</td>\n",
       "      <td>1</td>\n",
       "      <td>6</td>\n",
       "      <td>2</td>\n",
       "      <td>6</td>\n",
       "      <td>8</td>\n",
       "      <td>False</td>\n",
       "      <td>False</td>\n",
       "      <td>Halsted St &amp; 37th St</td>\n",
       "      <td>41.827059</td>\n",
       "      <td>-87.645720</td>\n",
       "    </tr>\n",
       "    <tr>\n",
       "      <th>4</th>\n",
       "      <td>a3a41004-a135-11e9-9cda-0a87ae2ba916</td>\n",
       "      <td>6</td>\n",
       "      <td>0</td>\n",
       "      <td>9</td>\n",
       "      <td>1</td>\n",
       "      <td>5</td>\n",
       "      <td>1</td>\n",
       "      <td>6</td>\n",
       "      <td>False</td>\n",
       "      <td>False</td>\n",
       "      <td>Cannon Dr &amp; Fullerton Ave</td>\n",
       "      <td>41.926756</td>\n",
       "      <td>-87.634429</td>\n",
       "    </tr>\n",
       "    <tr>\n",
       "      <th>...</th>\n",
       "      <td>...</td>\n",
       "      <td>...</td>\n",
       "      <td>...</td>\n",
       "      <td>...</td>\n",
       "      <td>...</td>\n",
       "      <td>...</td>\n",
       "      <td>...</td>\n",
       "      <td>...</td>\n",
       "      <td>...</td>\n",
       "      <td>...</td>\n",
       "      <td>...</td>\n",
       "      <td>...</td>\n",
       "      <td>...</td>\n",
       "    </tr>\n",
       "    <tr>\n",
       "      <th>1659</th>\n",
       "      <td>1674190656158837882</td>\n",
       "      <td>0</td>\n",
       "      <td>0</td>\n",
       "      <td>1</td>\n",
       "      <td>0</td>\n",
       "      <td>0</td>\n",
       "      <td>0</td>\n",
       "      <td>0</td>\n",
       "      <td>True</td>\n",
       "      <td>False</td>\n",
       "      <td>Public Rack - Wentworth Ave &amp; 79th St</td>\n",
       "      <td>41.750712</td>\n",
       "      <td>-87.629949</td>\n",
       "    </tr>\n",
       "    <tr>\n",
       "      <th>1660</th>\n",
       "      <td>1674190428525570800</td>\n",
       "      <td>0</td>\n",
       "      <td>0</td>\n",
       "      <td>1</td>\n",
       "      <td>0</td>\n",
       "      <td>0</td>\n",
       "      <td>0</td>\n",
       "      <td>0</td>\n",
       "      <td>True</td>\n",
       "      <td>False</td>\n",
       "      <td>Public Rack - Lake Park Ave &amp; 44th St</td>\n",
       "      <td>41.814697</td>\n",
       "      <td>-87.598006</td>\n",
       "    </tr>\n",
       "    <tr>\n",
       "      <th>1661</th>\n",
       "      <td>1674190239547009458</td>\n",
       "      <td>0</td>\n",
       "      <td>0</td>\n",
       "      <td>6</td>\n",
       "      <td>0</td>\n",
       "      <td>0</td>\n",
       "      <td>0</td>\n",
       "      <td>0</td>\n",
       "      <td>True</td>\n",
       "      <td>False</td>\n",
       "      <td>Public Rack - Christiana Ave &amp; Belmont Ave</td>\n",
       "      <td>41.939170</td>\n",
       "      <td>-87.711690</td>\n",
       "    </tr>\n",
       "    <tr>\n",
       "      <th>1662</th>\n",
       "      <td>1806749727197839828</td>\n",
       "      <td>0</td>\n",
       "      <td>0</td>\n",
       "      <td>4</td>\n",
       "      <td>0</td>\n",
       "      <td>0</td>\n",
       "      <td>0</td>\n",
       "      <td>0</td>\n",
       "      <td>True</td>\n",
       "      <td>False</td>\n",
       "      <td>Public Rack - Milwaukee Ave &amp; Warner Ave</td>\n",
       "      <td>41.956259</td>\n",
       "      <td>-87.750766</td>\n",
       "    </tr>\n",
       "    <tr>\n",
       "      <th>1663</th>\n",
       "      <td>1715846705501012842</td>\n",
       "      <td>1</td>\n",
       "      <td>0</td>\n",
       "      <td>0</td>\n",
       "      <td>1</td>\n",
       "      <td>0</td>\n",
       "      <td>0</td>\n",
       "      <td>1</td>\n",
       "      <td>False</td>\n",
       "      <td>True</td>\n",
       "      <td>Public Rack - Independence Blvd &amp; Roosevelt</td>\n",
       "      <td>41.866212</td>\n",
       "      <td>-87.718497</td>\n",
       "    </tr>\n",
       "  </tbody>\n",
       "</table>\n",
       "<p>1664 rows × 13 columns</p>\n",
       "</div>"
      ],
      "text/plain": [
       "                                station_id  nGoodBikes  nBrokenBikes  \\\n",
       "0     a3a5700b-a135-11e9-9cda-0a87ae2ba916           5             3   \n",
       "1                      1867616662773391950           8             1   \n",
       "2     a3a547b8-a135-11e9-9cda-0a87ae2ba916           5             0   \n",
       "3     a3a96aca-a135-11e9-9cda-0a87ae2ba916           8             0   \n",
       "4     a3a41004-a135-11e9-9cda-0a87ae2ba916           6             0   \n",
       "...                                    ...         ...           ...   \n",
       "1659                   1674190656158837882           0             0   \n",
       "1660                   1674190428525570800           0             0   \n",
       "1661                   1674190239547009458           0             0   \n",
       "1662                   1806749727197839828           0             0   \n",
       "1663                   1715846705501012842           1             0   \n",
       "\n",
       "      nDocksOpen  num_ebikes_available  nClassic  nElectric  nAllBikes  \\\n",
       "0             17                     0         5          0          8   \n",
       "1              6                     7         1          7          9   \n",
       "2             10                     1         4          1          5   \n",
       "3              1                     6         2          6          8   \n",
       "4              9                     1         5          1          6   \n",
       "...          ...                   ...       ...        ...        ...   \n",
       "1659           1                     0         0          0          0   \n",
       "1660           1                     0         0          0          0   \n",
       "1661           6                     0         0          0          0   \n",
       "1662           4                     0         0          0          0   \n",
       "1663           0                     1         0          0          1   \n",
       "\n",
       "      hasNoBikes  hasNoDocks                                         name  \\\n",
       "0          False       False                        Dearborn St & Erie St   \n",
       "1          False       False                    Karlov Ave & Armitage Ave   \n",
       "2          False       False                                63rd St Beach   \n",
       "3          False       False                         Halsted St & 37th St   \n",
       "4          False       False                    Cannon Dr & Fullerton Ave   \n",
       "...          ...         ...                                          ...   \n",
       "1659        True       False        Public Rack - Wentworth Ave & 79th St   \n",
       "1660        True       False        Public Rack - Lake Park Ave & 44th St   \n",
       "1661        True       False   Public Rack - Christiana Ave & Belmont Ave   \n",
       "1662        True       False     Public Rack - Milwaukee Ave & Warner Ave   \n",
       "1663       False        True  Public Rack - Independence Blvd & Roosevelt   \n",
       "\n",
       "            lat        lon  \n",
       "0     41.893992 -87.629318  \n",
       "1     41.917480 -87.728952  \n",
       "2     41.780911 -87.576324  \n",
       "3     41.827059 -87.645720  \n",
       "4     41.926756 -87.634429  \n",
       "...         ...        ...  \n",
       "1659  41.750712 -87.629949  \n",
       "1660  41.814697 -87.598006  \n",
       "1661  41.939170 -87.711690  \n",
       "1662  41.956259 -87.750766  \n",
       "1663  41.866212 -87.718497  \n",
       "\n",
       "[1664 rows x 13 columns]"
      ]
     },
     "execution_count": 146,
     "metadata": {},
     "output_type": "execute_result"
    }
   ],
   "source": [
    "df_stations = pd.merge(df_stations, df_station_info, on='station_id')\n",
    "df_stations"
   ]
  },
  {
   "cell_type": "markdown",
   "id": "262aa821",
   "metadata": {},
   "source": [
    "# Export for analysis"
   ]
  },
  {
   "cell_type": "code",
   "execution_count": 147,
   "id": "ec81fa6c",
   "metadata": {},
   "outputs": [],
   "source": [
    "df_stations.to_csv(\"../results/station_summaries.csv\")"
   ]
  },
  {
   "cell_type": "markdown",
   "id": "31126ad5",
   "metadata": {},
   "source": [
    "# Summarize Data"
   ]
  },
  {
   "cell_type": "code",
   "execution_count": 148,
   "id": "e0158731",
   "metadata": {},
   "outputs": [
    {
     "data": {
      "text/plain": [
       "6713"
      ]
     },
     "execution_count": 148,
     "metadata": {},
     "output_type": "execute_result"
    }
   ],
   "source": [
    "#total # of bikes\n",
    "df_stations['nAllBikes'].sum()"
   ]
  },
  {
   "cell_type": "code",
   "execution_count": 149,
   "id": "686f818d",
   "metadata": {},
   "outputs": [
    {
     "data": {
      "text/plain": [
       "9.325189929986593"
      ]
     },
     "execution_count": 149,
     "metadata": {},
     "output_type": "execute_result"
    }
   ],
   "source": [
    "#calculate percent broken bikes\n",
    "100*df_stations['nBrokenBikes'].sum()/df_stations['nAllBikes'].sum()"
   ]
  },
  {
   "cell_type": "markdown",
   "id": "7ffbfd37",
   "metadata": {},
   "source": [
    "# Quality Check"
   ]
  },
  {
   "cell_type": "code",
   "execution_count": 150,
   "id": "156368c5",
   "metadata": {},
   "outputs": [],
   "source": [
    "#nElectric doesn't always match num_ebikes_available, can be less than or greater\n",
    "#df_stations[df_stations['nElectric']!=df_stations['num_ebikes_available']]"
   ]
  },
  {
   "cell_type": "code",
   "execution_count": 151,
   "id": "8ee537b8",
   "metadata": {},
   "outputs": [
    {
     "ename": "KeyError",
     "evalue": "'nBikes'",
     "output_type": "error",
     "traceback": [
      "\u001b[0;31m---------------------------------------------------------------------------\u001b[0m",
      "\u001b[0;31mKeyError\u001b[0m                                  Traceback (most recent call last)",
      "\u001b[0;32m~/.local/lib/python3.10/site-packages/pandas/core/indexes/base.py\u001b[0m in \u001b[0;36mget_loc\u001b[0;34m(self, key)\u001b[0m\n\u001b[1;32m   3789\u001b[0m         \u001b[0;32mtry\u001b[0m\u001b[0;34m:\u001b[0m\u001b[0;34m\u001b[0m\u001b[0;34m\u001b[0m\u001b[0m\n\u001b[0;32m-> 3790\u001b[0;31m             \u001b[0;32mreturn\u001b[0m \u001b[0mself\u001b[0m\u001b[0;34m.\u001b[0m\u001b[0m_engine\u001b[0m\u001b[0;34m.\u001b[0m\u001b[0mget_loc\u001b[0m\u001b[0;34m(\u001b[0m\u001b[0mcasted_key\u001b[0m\u001b[0;34m)\u001b[0m\u001b[0;34m\u001b[0m\u001b[0;34m\u001b[0m\u001b[0m\n\u001b[0m\u001b[1;32m   3791\u001b[0m         \u001b[0;32mexcept\u001b[0m \u001b[0mKeyError\u001b[0m \u001b[0;32mas\u001b[0m \u001b[0merr\u001b[0m\u001b[0;34m:\u001b[0m\u001b[0;34m\u001b[0m\u001b[0;34m\u001b[0m\u001b[0m\n",
      "\u001b[0;32mindex.pyx\u001b[0m in \u001b[0;36mpandas._libs.index.IndexEngine.get_loc\u001b[0;34m()\u001b[0m\n",
      "\u001b[0;32mindex.pyx\u001b[0m in \u001b[0;36mpandas._libs.index.IndexEngine.get_loc\u001b[0;34m()\u001b[0m\n",
      "\u001b[0;32mpandas/_libs/hashtable_class_helper.pxi\u001b[0m in \u001b[0;36mpandas._libs.hashtable.PyObjectHashTable.get_item\u001b[0;34m()\u001b[0m\n",
      "\u001b[0;32mpandas/_libs/hashtable_class_helper.pxi\u001b[0m in \u001b[0;36mpandas._libs.hashtable.PyObjectHashTable.get_item\u001b[0;34m()\u001b[0m\n",
      "\u001b[0;31mKeyError\u001b[0m: 'nBikes'",
      "\nThe above exception was the direct cause of the following exception:\n",
      "\u001b[0;31mKeyError\u001b[0m                                  Traceback (most recent call last)",
      "\u001b[0;32m/tmp/ipykernel_995/2610157164.py\u001b[0m in \u001b[0;36m<module>\u001b[0;34m\u001b[0m\n\u001b[1;32m      1\u001b[0m \u001b[0;31m#confirm totals\u001b[0m\u001b[0;34m\u001b[0m\u001b[0;34m\u001b[0m\u001b[0m\n\u001b[1;32m      2\u001b[0m \u001b[0mdf_stations\u001b[0m\u001b[0;34m[\u001b[0m\u001b[0;34m'nBikes_check'\u001b[0m\u001b[0;34m]\u001b[0m\u001b[0;34m=\u001b[0m \u001b[0mdf_stations\u001b[0m\u001b[0;34m[\u001b[0m\u001b[0;34m'nClassic'\u001b[0m\u001b[0;34m]\u001b[0m \u001b[0;34m+\u001b[0m \u001b[0mdf_stations\u001b[0m\u001b[0;34m[\u001b[0m\u001b[0;34m'nElectric'\u001b[0m\u001b[0;34m]\u001b[0m\u001b[0;34m\u001b[0m\u001b[0;34m\u001b[0m\u001b[0m\n\u001b[0;32m----> 3\u001b[0;31m \u001b[0mdf_stations\u001b[0m\u001b[0;34m[\u001b[0m\u001b[0mdf_stations\u001b[0m\u001b[0;34m[\u001b[0m\u001b[0;34m'nBikes'\u001b[0m\u001b[0;34m]\u001b[0m\u001b[0;34m!=\u001b[0m\u001b[0mdf_stations\u001b[0m\u001b[0;34m[\u001b[0m\u001b[0;34m'nBikes_check'\u001b[0m\u001b[0;34m]\u001b[0m\u001b[0;34m]\u001b[0m\u001b[0;34m\u001b[0m\u001b[0;34m\u001b[0m\u001b[0m\n\u001b[0m",
      "\u001b[0;32m~/.local/lib/python3.10/site-packages/pandas/core/frame.py\u001b[0m in \u001b[0;36m__getitem__\u001b[0;34m(self, key)\u001b[0m\n\u001b[1;32m   3894\u001b[0m             \u001b[0;32mif\u001b[0m \u001b[0mself\u001b[0m\u001b[0;34m.\u001b[0m\u001b[0mcolumns\u001b[0m\u001b[0;34m.\u001b[0m\u001b[0mnlevels\u001b[0m \u001b[0;34m>\u001b[0m \u001b[0;36m1\u001b[0m\u001b[0;34m:\u001b[0m\u001b[0;34m\u001b[0m\u001b[0;34m\u001b[0m\u001b[0m\n\u001b[1;32m   3895\u001b[0m                 \u001b[0;32mreturn\u001b[0m \u001b[0mself\u001b[0m\u001b[0;34m.\u001b[0m\u001b[0m_getitem_multilevel\u001b[0m\u001b[0;34m(\u001b[0m\u001b[0mkey\u001b[0m\u001b[0;34m)\u001b[0m\u001b[0;34m\u001b[0m\u001b[0;34m\u001b[0m\u001b[0m\n\u001b[0;32m-> 3896\u001b[0;31m             \u001b[0mindexer\u001b[0m \u001b[0;34m=\u001b[0m \u001b[0mself\u001b[0m\u001b[0;34m.\u001b[0m\u001b[0mcolumns\u001b[0m\u001b[0;34m.\u001b[0m\u001b[0mget_loc\u001b[0m\u001b[0;34m(\u001b[0m\u001b[0mkey\u001b[0m\u001b[0;34m)\u001b[0m\u001b[0;34m\u001b[0m\u001b[0;34m\u001b[0m\u001b[0m\n\u001b[0m\u001b[1;32m   3897\u001b[0m             \u001b[0;32mif\u001b[0m \u001b[0mis_integer\u001b[0m\u001b[0;34m(\u001b[0m\u001b[0mindexer\u001b[0m\u001b[0;34m)\u001b[0m\u001b[0;34m:\u001b[0m\u001b[0;34m\u001b[0m\u001b[0;34m\u001b[0m\u001b[0m\n\u001b[1;32m   3898\u001b[0m                 \u001b[0mindexer\u001b[0m \u001b[0;34m=\u001b[0m \u001b[0;34m[\u001b[0m\u001b[0mindexer\u001b[0m\u001b[0;34m]\u001b[0m\u001b[0;34m\u001b[0m\u001b[0;34m\u001b[0m\u001b[0m\n",
      "\u001b[0;32m~/.local/lib/python3.10/site-packages/pandas/core/indexes/base.py\u001b[0m in \u001b[0;36mget_loc\u001b[0;34m(self, key)\u001b[0m\n\u001b[1;32m   3795\u001b[0m             ):\n\u001b[1;32m   3796\u001b[0m                 \u001b[0;32mraise\u001b[0m \u001b[0mInvalidIndexError\u001b[0m\u001b[0;34m(\u001b[0m\u001b[0mkey\u001b[0m\u001b[0;34m)\u001b[0m\u001b[0;34m\u001b[0m\u001b[0;34m\u001b[0m\u001b[0m\n\u001b[0;32m-> 3797\u001b[0;31m             \u001b[0;32mraise\u001b[0m \u001b[0mKeyError\u001b[0m\u001b[0;34m(\u001b[0m\u001b[0mkey\u001b[0m\u001b[0;34m)\u001b[0m \u001b[0;32mfrom\u001b[0m \u001b[0merr\u001b[0m\u001b[0;34m\u001b[0m\u001b[0;34m\u001b[0m\u001b[0m\n\u001b[0m\u001b[1;32m   3798\u001b[0m         \u001b[0;32mexcept\u001b[0m \u001b[0mTypeError\u001b[0m\u001b[0;34m:\u001b[0m\u001b[0;34m\u001b[0m\u001b[0;34m\u001b[0m\u001b[0m\n\u001b[1;32m   3799\u001b[0m             \u001b[0;31m# If we have a listlike key, _check_indexing_error will raise\u001b[0m\u001b[0;34m\u001b[0m\u001b[0;34m\u001b[0m\u001b[0m\n",
      "\u001b[0;31mKeyError\u001b[0m: 'nBikes'"
     ]
    }
   ],
   "source": [
    "#confirm totals\n",
    "df_stations['nBikes_check']= df_stations['nClassic'] + df_stations['nElectric']\n",
    "df_stations[df_stations['nBikes']!=df_stations['nBikes_check']]"
   ]
  },
  {
   "cell_type": "code",
   "execution_count": null,
   "id": "dfda542b",
   "metadata": {},
   "outputs": [],
   "source": []
  }
 ],
 "metadata": {
  "kernelspec": {
   "display_name": "Python 3 (ipykernel)",
   "language": "python",
   "name": "python3"
  },
  "language_info": {
   "codemirror_mode": {
    "name": "ipython",
    "version": 3
   },
   "file_extension": ".py",
   "mimetype": "text/x-python",
   "name": "python",
   "nbconvert_exporter": "python",
   "pygments_lexer": "ipython3",
   "version": "3.10.12"
  }
 },
 "nbformat": 4,
 "nbformat_minor": 5
}
